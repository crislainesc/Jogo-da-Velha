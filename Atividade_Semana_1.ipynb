{
  "nbformat": 4,
  "nbformat_minor": 0,
  "metadata": {
    "colab": {
      "name": "Atividade Semana 1",
      "provenance": [],
      "collapsed_sections": [],
      "authorship_tag": "ABX9TyPhJpWM6yikcViz+hOtiU0Q",
      "include_colab_link": true
    },
    "kernelspec": {
      "name": "python3",
      "display_name": "Python 3"
    }
  },
  "cells": [
    {
      "cell_type": "markdown",
      "metadata": {
        "id": "view-in-github",
        "colab_type": "text"
      },
      "source": [
        "<a href=\"https://colab.research.google.com/github/crislainesc/Jogo-da-Velha/blob/master/Atividade_Semana_1.ipynb\" target=\"_parent\"><img src=\"https://colab.research.google.com/assets/colab-badge.svg\" alt=\"Open In Colab\"/></a>"
      ]
    },
    {
      "cell_type": "markdown",
      "metadata": {
        "id": "LUmHVQMlBRNf"
      },
      "source": [
        "# **Estatística descritiva**\n",
        "\n",
        "*   O conjunto de dados utilizado para ser analisado por meio das ferramentas da estatística descritiva foi o data set que contém informações acerca consumo estimado de energia em Megawatts (MW) da American Electric Power (AEP).\n",
        "*   [Consumo de energia por hora](https://www.kaggle.com/robikscube/hourly-energy-consumption?select=AEP_hourly.csv)"
      ]
    },
    {
      "cell_type": "markdown",
      "metadata": {
        "id": "459dpxB00h2X"
      },
      "source": [
        "# **Leitura dos dados**"
      ]
    },
    {
      "cell_type": "code",
      "metadata": {
        "id": "oVrxNwekBNcl",
        "outputId": "d0a0e89a-d539-474a-8dd1-e06f1940bd49",
        "colab": {
          "base_uri": "https://localhost:8080/",
          "height": 34
        }
      },
      "source": [
        "# criando ambiente no google drive\n",
        "from google.colab import drive \n",
        "drive.mount('/content/drive/')"
      ],
      "execution_count": null,
      "outputs": [
        {
          "output_type": "stream",
          "text": [
            "Drive already mounted at /content/drive/; to attempt to forcibly remount, call drive.mount(\"/content/drive/\", force_remount=True).\n"
          ],
          "name": "stdout"
        }
      ]
    },
    {
      "cell_type": "code",
      "metadata": {
        "id": "xoI_l9ewRLhs"
      },
      "source": [
        "# importando biblioteca para leitura do arquivo csv\n",
        "import pandas as pd"
      ],
      "execution_count": null,
      "outputs": []
    },
    {
      "cell_type": "code",
      "metadata": {
        "id": "M7GcHJ6EQ_Wx"
      },
      "source": [
        "# lendo os dados\n",
        "dados = pd.read_csv('/content/drive/My Drive/Colab Notebooks/Estatística e Probabilidade/Semana 1/AEP_hourly.csv')"
      ],
      "execution_count": null,
      "outputs": []
    },
    {
      "cell_type": "code",
      "metadata": {
        "id": "cA44gf8sR7bP",
        "outputId": "51401d75-0e1f-4ec7-e616-af45afbd242e",
        "colab": {
          "base_uri": "https://localhost:8080/",
          "height": 204
        }
      },
      "source": [
        "dados.head()"
      ],
      "execution_count": null,
      "outputs": [
        {
          "output_type": "execute_result",
          "data": {
            "text/html": [
              "<div>\n",
              "<style scoped>\n",
              "    .dataframe tbody tr th:only-of-type {\n",
              "        vertical-align: middle;\n",
              "    }\n",
              "\n",
              "    .dataframe tbody tr th {\n",
              "        vertical-align: top;\n",
              "    }\n",
              "\n",
              "    .dataframe thead th {\n",
              "        text-align: right;\n",
              "    }\n",
              "</style>\n",
              "<table border=\"1\" class=\"dataframe\">\n",
              "  <thead>\n",
              "    <tr style=\"text-align: right;\">\n",
              "      <th></th>\n",
              "      <th>Datetime</th>\n",
              "      <th>AEP_MW</th>\n",
              "    </tr>\n",
              "  </thead>\n",
              "  <tbody>\n",
              "    <tr>\n",
              "      <th>0</th>\n",
              "      <td>2004-12-31 01:00:00</td>\n",
              "      <td>13478.0</td>\n",
              "    </tr>\n",
              "    <tr>\n",
              "      <th>1</th>\n",
              "      <td>2004-12-31 02:00:00</td>\n",
              "      <td>12865.0</td>\n",
              "    </tr>\n",
              "    <tr>\n",
              "      <th>2</th>\n",
              "      <td>2004-12-31 03:00:00</td>\n",
              "      <td>12577.0</td>\n",
              "    </tr>\n",
              "    <tr>\n",
              "      <th>3</th>\n",
              "      <td>2004-12-31 04:00:00</td>\n",
              "      <td>12517.0</td>\n",
              "    </tr>\n",
              "    <tr>\n",
              "      <th>4</th>\n",
              "      <td>2004-12-31 05:00:00</td>\n",
              "      <td>12670.0</td>\n",
              "    </tr>\n",
              "  </tbody>\n",
              "</table>\n",
              "</div>"
            ],
            "text/plain": [
              "              Datetime   AEP_MW\n",
              "0  2004-12-31 01:00:00  13478.0\n",
              "1  2004-12-31 02:00:00  12865.0\n",
              "2  2004-12-31 03:00:00  12577.0\n",
              "3  2004-12-31 04:00:00  12517.0\n",
              "4  2004-12-31 05:00:00  12670.0"
            ]
          },
          "metadata": {
            "tags": []
          },
          "execution_count": 5
        }
      ]
    },
    {
      "cell_type": "code",
      "metadata": {
        "id": "bG0hNuwHSFiF",
        "outputId": "05dde73d-701c-4af3-bf36-1fee059dd48f",
        "colab": {
          "base_uri": "https://localhost:8080/",
          "height": 34
        }
      },
      "source": [
        "dados.columns"
      ],
      "execution_count": null,
      "outputs": [
        {
          "output_type": "execute_result",
          "data": {
            "text/plain": [
              "Index(['Datetime', 'AEP_MW'], dtype='object')"
            ]
          },
          "metadata": {
            "tags": []
          },
          "execution_count": 6
        }
      ]
    },
    {
      "cell_type": "code",
      "metadata": {
        "id": "HtU1GHf2S8oO"
      },
      "source": [
        "# transformando a coluna de dados em lista\n",
        "megawatts = dados['AEP_MW'].tolist()"
      ],
      "execution_count": null,
      "outputs": []
    },
    {
      "cell_type": "markdown",
      "metadata": {
        "id": "WxUHqCGIThNI"
      },
      "source": [
        "# **Distribuição de Frequência**"
      ]
    },
    {
      "cell_type": "markdown",
      "metadata": {
        "id": "hp-oY1ACTpW5"
      },
      "source": [
        "**Número de classes**"
      ]
    },
    {
      "cell_type": "code",
      "metadata": {
        "id": "Q5amAj_YUVEW"
      },
      "source": [
        "n_classes = 5"
      ],
      "execution_count": null,
      "outputs": []
    },
    {
      "cell_type": "markdown",
      "metadata": {
        "id": "q_KNUHaExNQI"
      },
      "source": [
        "O número de linhas do data set ultrapassa dez mil entradas, por este motivo foi selecionada uma amostra de três mil entradas para facilitar a ánalise e visualização dos dados."
      ]
    },
    {
      "cell_type": "code",
      "metadata": {
        "id": "N7eXJLLIUYkp"
      },
      "source": [
        "megawatts = megawatts[0:3000]"
      ],
      "execution_count": null,
      "outputs": []
    },
    {
      "cell_type": "markdown",
      "metadata": {
        "id": "gcZoMWgmVcD7"
      },
      "source": [
        "**Amplitude dos dados**"
      ]
    },
    {
      "cell_type": "code",
      "metadata": {
        "id": "3oeQmif9VeQ2",
        "outputId": "3cf7c50c-a77c-46fe-8024-d99da413598a",
        "colab": {
          "base_uri": "https://localhost:8080/",
          "height": 34
        }
      },
      "source": [
        "# calculando a amplitude total\n",
        "maior = max(megawatts)\n",
        "menor = min(megawatts)\n",
        "amplitude = maior - menor\n",
        "maior, menor, amplitude"
      ],
      "execution_count": null,
      "outputs": [
        {
          "output_type": "execute_result",
          "data": {
            "text/plain": [
              "(22577.0, 10263.0, 12314.0)"
            ]
          },
          "metadata": {
            "tags": []
          },
          "execution_count": 10
        }
      ]
    },
    {
      "cell_type": "markdown",
      "metadata": {
        "id": "8OUYxgF8yTtM"
      },
      "source": [
        "Da amostra coletada o maior consumo de megawatts da empresa foi de 22.577MWh e o menor de 10.263MWh resultando em uma amplitude de 12.314MWh."
      ]
    },
    {
      "cell_type": "markdown",
      "metadata": {
        "id": "gLcoNOHfY265"
      },
      "source": [
        "**Amplitude de classe**"
      ]
    },
    {
      "cell_type": "code",
      "metadata": {
        "id": "E2fmgZy_Y5EJ",
        "outputId": "3ec2d31c-70de-4d9b-dfe1-48afb9bc6566",
        "colab": {
          "base_uri": "https://localhost:8080/",
          "height": 34
        }
      },
      "source": [
        "amplitude_classe = round(amplitude/n_classes)\n",
        "amplitude_classe"
      ],
      "execution_count": null,
      "outputs": [
        {
          "output_type": "execute_result",
          "data": {
            "text/plain": [
              "2463"
            ]
          },
          "metadata": {
            "tags": []
          },
          "execution_count": 11
        }
      ]
    },
    {
      "cell_type": "markdown",
      "metadata": {
        "id": "8rZQ8Mm9zxUS"
      },
      "source": [
        "Foram definidas cinco classes que calculadas com a amplitude da amostra resultam em uma amplitude de classe de 2.463MWh."
      ]
    },
    {
      "cell_type": "markdown",
      "metadata": {
        "id": "RDBFys8pZEf6"
      },
      "source": [
        "**Limites de classes**"
      ]
    },
    {
      "cell_type": "code",
      "metadata": {
        "id": "TFzrvlkpZGgl",
        "outputId": "4e086151-d5e5-44ec-9cdb-b2c9166786f7",
        "colab": {
          "base_uri": "https://localhost:8080/",
          "height": 34
        }
      },
      "source": [
        "limites_inf = [menor]\n",
        "for i in range(n_classes):\n",
        "  limites_inf.append(limites_inf[i]+amplitude_classe)\n",
        "limites_inf"
      ],
      "execution_count": null,
      "outputs": [
        {
          "output_type": "execute_result",
          "data": {
            "text/plain": [
              "[10263.0, 12726.0, 15189.0, 17652.0, 20115.0, 22578.0]"
            ]
          },
          "metadata": {
            "tags": []
          },
          "execution_count": 12
        }
      ]
    },
    {
      "cell_type": "markdown",
      "metadata": {
        "id": "vSYmLAot0HL_"
      },
      "source": [
        "Os números acima mostram os limites entre as classes para o cálculo de frequência.\n",
        "\n",
        "E a tabela abaixo contém em suas linhas o limite inferior e superior de cada classe."
      ]
    },
    {
      "cell_type": "markdown",
      "metadata": {
        "id": "6tBbJpmIZlp-"
      },
      "source": [
        "**Limites encontrados**\n",
        "<table>\n",
        "  <tr><th>Classes</th><th>Frequência</th></tr>\n",
        "  <tr><td>10263-12725</td><td> </td></tr>\n",
        "  <tr><td>12726-15188</td><td> </td></tr>\n",
        "  <tr><td>15189-17651</td><td> </td></tr>\n",
        "  <tr><td>17652-20114</td><td> </td></tr>\n",
        "  <tr><td>20115-22577</td><td> </td></tr>\n",
        "</table>"
      ]
    },
    {
      "cell_type": "code",
      "metadata": {
        "id": "u8KMt8tXa4S-",
        "outputId": "e51420a8-f360-440c-b174-281826d22798",
        "colab": {
          "base_uri": "https://localhost:8080/",
          "height": 102
        }
      },
      "source": [
        "frequencias = {'classe1':0, 'classe2':0, 'classe3':0, 'classe4':0, 'classe5':0}\n",
        "for numero in megawatts:\n",
        "  if numero < limites_inf[1]:\n",
        "    frequencias['classe1'] += 1\n",
        "  elif numero < limites_inf[2]:\n",
        "    frequencias['classe2'] += 1\n",
        "  elif numero < limites_inf[3]:\n",
        "    frequencias['classe3'] += 1\n",
        "  elif numero < limites_inf[4]:\n",
        "    frequencias['classe4'] += 1\n",
        "  else:\n",
        "    frequencias['classe5'] += 1\n",
        "frequencias"
      ],
      "execution_count": null,
      "outputs": [
        {
          "output_type": "execute_result",
          "data": {
            "text/plain": [
              "{'classe1': 308,\n",
              " 'classe2': 834,\n",
              " 'classe3': 1242,\n",
              " 'classe4': 479,\n",
              " 'classe5': 137}"
            ]
          },
          "metadata": {
            "tags": []
          },
          "execution_count": 13
        }
      ]
    },
    {
      "cell_type": "markdown",
      "metadata": {
        "id": "0c0BPzlyePoK"
      },
      "source": [
        "**Distribuição de frequência**\n",
        "<table>\n",
        "  <tr><th>Classes</th><th>Frequência</th></tr>\n",
        "  <tr><td>10263-12725</td><td>308</td></tr>\n",
        "  <tr><td>12726-15188</td><td>834</td></tr>\n",
        "  <tr><td>15189-17651</td><td>1242</td></tr>\n",
        "  <tr><td>17652-20114</td><td>479</td></tr>\n",
        "  <tr><td>20115-22577</td><td>137</td></tr>\n",
        "</table>"
      ]
    },
    {
      "cell_type": "markdown",
      "metadata": {
        "id": "xhgZQoF20vrY"
      },
      "source": [
        "Na primeira classe foram calculadas 308 instâncias, na segunda 834, na terceira 1.242, na quarta 479 e na quinta classe 137 instâncias. Mostrando que as maiores distribuiçoes de frequência estão entre a segunda e terceira classe."
      ]
    },
    {
      "cell_type": "markdown",
      "metadata": {
        "id": "3r9Ztwu4e38D"
      },
      "source": [
        "# **Frequência relativa**"
      ]
    },
    {
      "cell_type": "code",
      "metadata": {
        "id": "GNXe8voXeyK6",
        "outputId": "d31e486d-8448-49fe-8993-fdae50c7c428",
        "colab": {
          "base_uri": "https://localhost:8080/",
          "height": 102
        }
      },
      "source": [
        "n_ocorrencias = len(megawatts)\n",
        "for classe in frequencias:\n",
        "  frequencias[classe] = frequencias[classe]/n_ocorrencias\n",
        "frequencias"
      ],
      "execution_count": null,
      "outputs": [
        {
          "output_type": "execute_result",
          "data": {
            "text/plain": [
              "{'classe1': 0.10266666666666667,\n",
              " 'classe2': 0.278,\n",
              " 'classe3': 0.414,\n",
              " 'classe4': 0.15966666666666668,\n",
              " 'classe5': 0.04566666666666667}"
            ]
          },
          "metadata": {
            "tags": []
          },
          "execution_count": 14
        }
      ]
    },
    {
      "cell_type": "markdown",
      "metadata": {
        "id": "tBAKiZfIhho7"
      },
      "source": [
        "**Distribuição de frequência**\n",
        "<table>\n",
        "  <tr><th>Classes</th><th>Frequência<th></th><th>%<th></tr>\n",
        "  <tr><td>10263-12725</td><td>308<td></td><td>10.26<td></tr>\n",
        "  <tr><td>12726-15188</td><td>834<td></td><td>27.80<td></tr>\n",
        "  <tr><td>15189-17651</td><td>1242<td></td><td>41.40<td></tr>\n",
        "  <tr><td>17652-20114</td><td>479<td></td><td>15.96<td></tr>\n",
        "  <tr><td>20115-22577</td><td>137<td></td><td>4.56<td></tr>\n",
        "</table>\n"
      ]
    },
    {
      "cell_type": "markdown",
      "metadata": {
        "id": "8wMEJrOL1oWs"
      },
      "source": [
        "O cálculo da frequência relativa confirma ressaltando que 85.16% das instâncias estão entre a segunda e terceira classe."
      ]
    },
    {
      "cell_type": "markdown",
      "metadata": {
        "id": "zfUkNei_j7wh"
      },
      "source": [
        "# **Histograma de frequência**"
      ]
    },
    {
      "cell_type": "code",
      "metadata": {
        "id": "s4VAoplmkA2X"
      },
      "source": [
        "import matplotlib.pyplot as plt"
      ],
      "execution_count": null,
      "outputs": []
    },
    {
      "cell_type": "code",
      "metadata": {
        "id": "XFAunnRYkD2d",
        "outputId": "f97979ab-98fc-4937-dcb7-dbeccb58cf5f",
        "colab": {
          "base_uri": "https://localhost:8080/",
          "height": 295
        }
      },
      "source": [
        "# histograma de frequência\n",
        "plt.hist(megawatts, 5)\n",
        "plt.xlabel('Classes')\n",
        "plt.ylabel('Quantidade')\n",
        "plt.title('Ocorrências das Classes')\n",
        "plt.grid(True)\n",
        "plt.show()"
      ],
      "execution_count": null,
      "outputs": [
        {
          "output_type": "display_data",
          "data": {
            "image/png": "[encoded data removed]",
            "text/plain": [
              "<Figure size 432x288 with 1 Axes>"
            ]
          },
          "metadata": {
            "tags": [],
            "needs_background": "light"
          }
        }
      ]
    },
    {
      "cell_type": "markdown",
      "metadata": {
        "id": "UNdzcHGu2XQa"
      },
      "source": [
        "O histograma reforça de maneira visual a maior distribuição de frequência entre as três classes. Revelando que os valores superiores de consumo estão entre 12.726MWh e 20.114MWh"
      ]
    },
    {
      "cell_type": "markdown",
      "metadata": {
        "id": "T6l1nCambpEc"
      },
      "source": [
        "# **Medidas de tendência central**"
      ]
    },
    {
      "cell_type": "markdown",
      "metadata": {
        "id": "r8iEHkrfbtyh"
      },
      "source": [
        "**Média**"
      ]
    },
    {
      "cell_type": "code",
      "metadata": {
        "id": "aMDFJVkpbs3u",
        "outputId": "5a3a0dfb-8fa9-4075-cdb3-c87788cb6dca",
        "colab": {
          "base_uri": "https://localhost:8080/",
          "height": 34
        }
      },
      "source": [
        "media_megawatts = sum(megawatts)/len(megawatts)\n",
        "media_megawatts"
      ],
      "execution_count": null,
      "outputs": [
        {
          "output_type": "execute_result",
          "data": {
            "text/plain": [
              "15781.056666666667"
            ]
          },
          "metadata": {
            "tags": []
          },
          "execution_count": 17
        }
      ]
    },
    {
      "cell_type": "markdown",
      "metadata": {
        "id": "2tDbVqzk3X97"
      },
      "source": [
        "A média de consumo por hora da American Electric Power (AEP) é de 15.781,05MWh sendo cerca de 6.000MWh a menos que o maior consumo e 5.000MWh a mais que o menor consumo."
      ]
    },
    {
      "cell_type": "markdown",
      "metadata": {
        "id": "270XTyq3b7di"
      },
      "source": [
        "**Mediana**"
      ]
    },
    {
      "cell_type": "code",
      "metadata": {
        "id": "GSBPNXMlb8aV"
      },
      "source": [
        "# ordenando o conjunto\n",
        "megawatts = sorted(megawatts)\n",
        "megawatts"
      ],
      "execution_count": null,
      "outputs": []
    },
    {
      "cell_type": "code",
      "metadata": {
        "id": "XeWrHk8TcFm9",
        "outputId": "59770aa1-0f0f-4a56-d226-d368a4dc12c8",
        "colab": {
          "base_uri": "https://localhost:8080/",
          "height": 34
        }
      },
      "source": [
        "if len(megawatts)%2 == 0:\n",
        "  mediana = (megawatts[int(len(megawatts)/2-1)] + megawatts[int(len(megawatts)/2)])/2\n",
        "else:\n",
        "  mediana = megawatts[int(len(megawatts)/2-1)]\n",
        "mediana"
      ],
      "execution_count": null,
      "outputs": [
        {
          "output_type": "execute_result",
          "data": {
            "text/plain": [
              "15679.5"
            ]
          },
          "metadata": {
            "tags": []
          },
          "execution_count": 19
        }
      ]
    },
    {
      "cell_type": "markdown",
      "metadata": {
        "id": "Din03H8i5jcO"
      },
      "source": [
        "A mediana de 15.679,5MWh é adjacente à média de consumo por hora."
      ]
    },
    {
      "cell_type": "markdown",
      "metadata": {
        "id": "hK4MGK7McuNB"
      },
      "source": [
        "**Moda**"
      ]
    },
    {
      "cell_type": "code",
      "metadata": {
        "id": "ducnS_nMcnQz"
      },
      "source": [
        "contagens = [0]*len(megawatts)\n",
        "contagens"
      ],
      "execution_count": null,
      "outputs": []
    },
    {
      "cell_type": "code",
      "metadata": {
        "id": "y4ISp5Ofc5oE"
      },
      "source": [
        "for i in range(len(megawatts)):\n",
        "  contagens[i] = megawatts.count(megawatts[i])\n",
        "contagens"
      ],
      "execution_count": null,
      "outputs": []
    },
    {
      "cell_type": "code",
      "metadata": {
        "id": "hB47RNUddGl5",
        "outputId": "c3ae75f2-c5a0-465c-cd4b-b1f45939bf10",
        "colab": {
          "base_uri": "https://localhost:8080/",
          "height": 34
        }
      },
      "source": [
        "max(contagens)"
      ],
      "execution_count": null,
      "outputs": [
        {
          "output_type": "execute_result",
          "data": {
            "text/plain": [
              "4"
            ]
          },
          "metadata": {
            "tags": []
          },
          "execution_count": 35
        }
      ]
    },
    {
      "cell_type": "code",
      "metadata": {
        "id": "pwCb0EIzdMmd"
      },
      "source": [
        "import numpy as np"
      ],
      "execution_count": null,
      "outputs": []
    },
    {
      "cell_type": "code",
      "metadata": {
        "id": "zEGwZxJBdJK6",
        "outputId": "64471905-6e25-4b1b-d1fd-bf70915bf169",
        "colab": {
          "base_uri": "https://localhost:8080/",
          "height": 425
        }
      },
      "source": [
        "indices_moda = np.where(np.array(contagens) == max(contagens))\n",
        "for indice in indices_moda[0]:\n",
        "  print(megawatts[indice])"
      ],
      "execution_count": null,
      "outputs": [
        {
          "output_type": "stream",
          "text": [
            "14394.0\n",
            "14394.0\n",
            "14394.0\n",
            "14394.0\n",
            "14565.0\n",
            "14565.0\n",
            "14565.0\n",
            "14565.0\n",
            "15261.0\n",
            "15261.0\n",
            "15261.0\n",
            "15261.0\n",
            "15803.0\n",
            "15803.0\n",
            "15803.0\n",
            "15803.0\n",
            "16047.0\n",
            "16047.0\n",
            "16047.0\n",
            "16047.0\n",
            "16546.0\n",
            "16546.0\n",
            "16546.0\n",
            "16546.0\n"
          ],
          "name": "stdout"
        }
      ]
    },
    {
      "cell_type": "markdown",
      "metadata": {
        "id": "SaMEq17Q6oqP"
      },
      "source": [
        "A amostra coletada é multimodal tendo como moda os valores de consumo:\n",
        "*  14.394 MWh\n",
        "*  14.565 MWh\n",
        "*  15.261 MWh\n",
        "*  15.803 MWh\n",
        "*  16.047 MWh\n",
        "*  16.546 MWh\n",
        "\n"
      ]
    },
    {
      "cell_type": "markdown",
      "metadata": {
        "id": "LX4EjxE7dwrg"
      },
      "source": [
        "**Média ponderada**"
      ]
    },
    {
      "cell_type": "markdown",
      "metadata": {
        "id": "IGeTItd2Ck8j"
      },
      "source": [
        "<table>\n",
        "  <tr><th>Classes</th><th>Frequência<th></th><th>%</th><th>Peso<th></tr>\n",
        "  <tr><td>10263-12725</td><td>308<td></td><td>10.26</td><td><td></tr>\n",
        "  <tr><td>12726-15188</td><td>834<td></td><td>27.80</td><td><td></tr>\n",
        "  <tr><td>15189-17651</td><td>1242<td></td><td>41.40</td><td><td></tr>\n",
        "  <tr><td>17652-20114</td><td>479<td></td><td>15.96</td><td><td></tr>\n",
        "  <tr><td>20115-22577</td><td>137<td></td><td>4.56</td><td><td></tr>\n",
        "</table>"
      ]
    },
    {
      "cell_type": "code",
      "metadata": {
        "id": "TdKeVeGqdyc7",
        "outputId": "48bceae1-2da1-4612-8e52-fecdfa6e6e82",
        "colab": {
          "base_uri": "https://localhost:8080/",
          "height": 34
        }
      },
      "source": [
        "media_ponderada = soma = 0\n",
        "pesos = [10.26, 27.80, 41.40, 15.96, 4.56]\n",
        "frequencia = [308, 834, 1242, 479, 137]\n",
        "'''for numero in range(len(megawatts)):\n",
        "  if numero < limites_inf[1]:\n",
        "    soma += megawatts[i]*pesos[1]\n",
        "  elif numero < limites_inf[2]:\n",
        "    soma += megawatts[i]*pesos[2]\n",
        "  elif numero < limites_inf[3]:\n",
        "    soma += megawatts[i]*pesos[3]\n",
        "  elif numero < limites_inf[4]:\n",
        "    soma += megawatts[i]*pesos[4]\n",
        "  else:\n",
        "    soma += megawatts[i]*pesos[0]'''\n",
        "for i in range(len(pesos)):\n",
        "  for j in range(len(frequencia)):\n",
        "      soma += pesos[i]*frequencia[j]\n",
        "media_ponderada = soma/(sum(pesos))\n",
        "media_ponderada"
      ],
      "execution_count": null,
      "outputs": [
        {
          "output_type": "execute_result",
          "data": {
            "text/plain": [
              "2999.9999999999995"
            ]
          },
          "metadata": {
            "tags": []
          },
          "execution_count": 47
        }
      ]
    },
    {
      "cell_type": "markdown",
      "metadata": {
        "id": "WKpXPuZ2pzHd"
      },
      "source": [
        "falta terminar"
      ]
    },
    {
      "cell_type": "markdown",
      "metadata": {
        "id": "Nd8f6yDvdyqy"
      },
      "source": [
        "# **Medidas de variação**"
      ]
    },
    {
      "cell_type": "markdown",
      "metadata": {
        "id": "5l4R_0kqd2-c"
      },
      "source": [
        "**Amplitude**"
      ]
    },
    {
      "cell_type": "code",
      "metadata": {
        "id": "PG7akYRzd2XI",
        "outputId": "0a0f0814-8804-4276-901a-8413a1065356",
        "colab": {
          "base_uri": "https://localhost:8080/",
          "height": 34
        }
      },
      "source": [
        "amplitude = max(megawatts) - min(megawatts)\n",
        "amplitude"
      ],
      "execution_count": null,
      "outputs": [
        {
          "output_type": "execute_result",
          "data": {
            "text/plain": [
              "12314.0"
            ]
          },
          "metadata": {
            "tags": []
          },
          "execution_count": 26
        }
      ]
    },
    {
      "cell_type": "markdown",
      "metadata": {
        "id": "jVzxm55zkbI-"
      },
      "source": [
        "A amplitude da amostra como já calculado anteriormente é de 12.314 MWh"
      ]
    },
    {
      "cell_type": "markdown",
      "metadata": {
        "id": "cQndPBgNeBCW"
      },
      "source": [
        "**Variância e Desvio padrão**"
      ]
    },
    {
      "cell_type": "code",
      "metadata": {
        "id": "24bSu4aheE5o",
        "outputId": "a64cdefe-6496-4dc2-8dcb-606866b8cf2c",
        "colab": {
          "base_uri": "https://localhost:8080/",
          "height": 34
        }
      },
      "source": [
        "var = 0\n",
        "media = np.mean(megawatts)\n",
        "for numero in megawatts:\n",
        "  var += (numero - media)**2\n",
        "var = var/len(megawatts)\n",
        "var"
      ],
      "execution_count": 50,
      "outputs": [
        {
          "output_type": "execute_result",
          "data": {
            "text/plain": [
              "5384092.508122227"
            ]
          },
          "metadata": {
            "tags": []
          },
          "execution_count": 50
        }
      ]
    },
    {
      "cell_type": "markdown",
      "metadata": {
        "id": "h6RINv6mRmBE"
      },
      "source": [
        "A variância indica \"o quão longe\" em geral os valores se encontram do valor esperado. O valor resultante do calculo da variância foi de 5.384.092.50"
      ]
    },
    {
      "cell_type": "code",
      "metadata": {
        "id": "HhKPBIUAeR6a",
        "outputId": "d9d57681-cf01-4fe3-9f00-050f7b3c4850",
        "colab": {
          "base_uri": "https://localhost:8080/",
          "height": 34
        }
      },
      "source": [
        "desv = var**(1/2)\n",
        "desv"
      ],
      "execution_count": null,
      "outputs": [
        {
          "output_type": "execute_result",
          "data": {
            "text/plain": [
              "2320.364736010748"
            ]
          },
          "metadata": {
            "tags": []
          },
          "execution_count": 28
        }
      ]
    },
    {
      "cell_type": "markdown",
      "metadata": {
        "id": "FGtOMQ99lcCz"
      },
      "source": [
        "O desvio padrão utilizando a raiz quadrada do resultado de variância da amostra foi de 2.320.36."
      ]
    },
    {
      "cell_type": "code",
      "metadata": {
        "id": "GxSjrV4WegLB",
        "outputId": "0a7b971e-3232-4558-89a7-d24c32b14ab6",
        "colab": {
          "base_uri": "https://localhost:8080/",
          "height": 295
        }
      },
      "source": [
        "dados = np.random.normal(media, desv, 1000)\n",
        "plt.hist(dados, 10)\n",
        "plt.xlabel('Classes')\n",
        "plt.ylabel('Quantidade')\n",
        "plt.title('Dados')\n",
        "plt.grid(True)\n",
        "plt.show()"
      ],
      "execution_count": 57,
      "outputs": [
        {
          "output_type": "display_data",
          "data": {
            "image/png": "[encoded data removed]",
            "text/plain": [
              "<Figure size 432x288 with 1 Axes>"
            ]
          },
          "metadata": {
            "tags": [],
            "needs_background": "light"
          }
        }
      ]
    },
    {
      "cell_type": "markdown",
      "metadata": {
        "id": "rR3ZlOU_mdxt"
      },
      "source": [
        "O histograma acima ilustra a dispersão entre os dados de consumo e a tendência central da amostra.\n"
      ]
    },
    {
      "cell_type": "markdown",
      "metadata": {
        "id": "GvnaKmyKfyue"
      },
      "source": [
        "# **Medidas de posição**"
      ]
    },
    {
      "cell_type": "code",
      "metadata": {
        "id": "WwBeTTfmf2Pt",
        "outputId": "3cd9fb38-46fb-43f1-fdcd-dce670214658",
        "colab": {
          "base_uri": "https://localhost:8080/",
          "height": 295
        }
      },
      "source": [
        "plt.boxplot(megawatts)\n",
        "plt.title('Boxplot do número de Megawatts por hora')\n",
        "plt.xlabel('Quantidade')\n",
        "plt.grid()\n",
        "plt.show()"
      ],
      "execution_count": null,
      "outputs": [
        {
          "output_type": "display_data",
          "data": {
            "image/png": "[encoded data removed]",
            "text/plain": [
              "<Figure size 432x288 with 1 Axes>"
            ]
          },
          "metadata": {
            "tags": [],
            "needs_background": "light"
          }
        }
      ]
    },
    {
      "cell_type": "markdown",
      "metadata": {
        "id": "jf0kZvRIm26O"
      },
      "source": [
        "O primeiro quartil está um pouco acima dos 14.000MWh, o segundo por sua vez está abaixo dos 16.000MWh e pode-se concluir que o terceiro está entre os 17.000MWh e 18.000MWh. Com os limites superior e inferior sendo 22577MWh e 10263MWh respectivamente. Além disso, o gráfico mostra um número considerável de outliers."
      ]
    },
    {
      "cell_type": "markdown",
      "metadata": {
        "id": "cQGn0Cd2n446"
      },
      "source": [
        "# **Referências**"
      ]
    },
    {
      "cell_type": "markdown",
      "metadata": {
        "id": "KsVMogrG6tgq"
      },
      "source": [
        "* MULLA, Rob. Hourly Energy Consumption. Kaggle, 2018. Disponível em: https://www.kaggle.com/robikscube/hourly-energy-consumption?select=AEP_hourly.csv. Acesso em: 15 Out. 2020.\n",
        "\n",
        "* MODA (estatística). Wikipedia, 2020. Disponível em: https://pt.wikipedia.org/wiki/Moda_(estat%C3%ADstica). Acesso em: 16 Out. 2020.\n",
        "\n",
        "* VARIÂNCIA. Wikipedia, 2019. Disponível em: https://pt.wikipedia.org/wiki/Vari%C3%A2ncia. Acesso em: 16 Out. 2020.\n",
        "\n"
      ]
    }
  ]
}