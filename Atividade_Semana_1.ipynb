{
  "nbformat": 4,
  "nbformat_minor": 0,
  "metadata": {
    "colab": {
      "name": "Atividade Semana 1",
      "provenance": [],
      "collapsed_sections": [],
      "authorship_tag": "ABX9TyPcPGxFr0+9lOEH2JCm6Ijj",
      "include_colab_link": true
    },
    "kernelspec": {
      "name": "python3",
      "display_name": "Python 3"
    }
  },
  "cells": [
    {
      "cell_type": "markdown",
      "metadata": {
        "id": "view-in-github",
        "colab_type": "text"
      },
      "source": [
        "<a href=\"https://colab.research.google.com/github/crislainesc/Jogo-da-Velha/blob/master/Atividade_Semana_1.ipynb\" target=\"_parent\"><img src=\"https://colab.research.google.com/assets/colab-badge.svg\" alt=\"Open In Colab\"/></a>"
      ]
    },
    {
      "cell_type": "markdown",
      "metadata": {
        "id": "LUmHVQMlBRNf"
      },
      "source": [
        "# **Estatística descritiva**\n",
        "\n",
        "*   O conjunto de dados utilizado para ser analisado por meio das ferramentas da estatística descritiva foi o data set que contém informações acerca consumo estimado de energia em Megawatts (MW) da American Electric Power (AEP).\n",
        "*   [Consumo de energia por hora](https://www.kaggle.com/robikscube/hourly-energy-consumption?select=AEP_hourly.csv)"
      ]
    },
    {
      "cell_type": "markdown",
      "metadata": {
        "id": "459dpxB00h2X"
      },
      "source": [
        "# **Leitura dos dados**"
      ]
    },
    {
      "cell_type": "code",
      "metadata": {
        "id": "oVrxNwekBNcl",
        "outputId": "739d8a9a-f821-4cda-c8e4-6072c2ceff16",
        "colab": {
          "base_uri": "https://localhost:8080/",
          "height": 34
        }
      },
      "source": [
        "# criando ambiente no google drive\n",
        "from google.colab import drive \n",
        "drive.mount('/content/drive/')"
      ],
      "execution_count": 58,
      "outputs": [
        {
          "output_type": "stream",
          "text": [
            "Drive already mounted at /content/drive/; to attempt to forcibly remount, call drive.mount(\"/content/drive/\", force_remount=True).\n"
          ],
          "name": "stdout"
        }
      ]
    },
    {
      "cell_type": "code",
      "metadata": {
        "id": "xoI_l9ewRLhs"
      },
      "source": [
        "# importando biblioteca para leitura do arquivo csv\n",
        "import pandas as pd"
      ],
      "execution_count": 59,
      "outputs": []
    },
    {
      "cell_type": "code",
      "metadata": {
        "id": "M7GcHJ6EQ_Wx"
      },
      "source": [
        "# lendo os dados\n",
        "dados = pd.read_csv('/content/drive/My Drive/Colab Notebooks/Estatística e Probabilidade/Semana 1/AEP_hourly.csv')"
      ],
      "execution_count": 60,
      "outputs": []
    },
    {
      "cell_type": "code",
      "metadata": {
        "id": "cA44gf8sR7bP",
        "outputId": "cd9c25c9-4c3f-43f2-ffb8-429b57b72e28",
        "colab": {
          "base_uri": "https://localhost:8080/",
          "height": 195
        }
      },
      "source": [
        "dados.head()"
      ],
      "execution_count": 61,
      "outputs": [
        {
          "output_type": "execute_result",
          "data": {
            "text/html": [
              "<div>\n",
              "<style scoped>\n",
              "    .dataframe tbody tr th:only-of-type {\n",
              "        vertical-align: middle;\n",
              "    }\n",
              "\n",
              "    .dataframe tbody tr th {\n",
              "        vertical-align: top;\n",
              "    }\n",
              "\n",
              "    .dataframe thead th {\n",
              "        text-align: right;\n",
              "    }\n",
              "</style>\n",
              "<table border=\"1\" class=\"dataframe\">\n",
              "  <thead>\n",
              "    <tr style=\"text-align: right;\">\n",
              "      <th></th>\n",
              "      <th>Datetime</th>\n",
              "      <th>AEP_MW</th>\n",
              "    </tr>\n",
              "  </thead>\n",
              "  <tbody>\n",
              "    <tr>\n",
              "      <th>0</th>\n",
              "      <td>2004-12-31 01:00:00</td>\n",
              "      <td>13478.0</td>\n",
              "    </tr>\n",
              "    <tr>\n",
              "      <th>1</th>\n",
              "      <td>2004-12-31 02:00:00</td>\n",
              "      <td>12865.0</td>\n",
              "    </tr>\n",
              "    <tr>\n",
              "      <th>2</th>\n",
              "      <td>2004-12-31 03:00:00</td>\n",
              "      <td>12577.0</td>\n",
              "    </tr>\n",
              "    <tr>\n",
              "      <th>3</th>\n",
              "      <td>2004-12-31 04:00:00</td>\n",
              "      <td>12517.0</td>\n",
              "    </tr>\n",
              "    <tr>\n",
              "      <th>4</th>\n",
              "      <td>2004-12-31 05:00:00</td>\n",
              "      <td>12670.0</td>\n",
              "    </tr>\n",
              "  </tbody>\n",
              "</table>\n",
              "</div>"
            ],
            "text/plain": [
              "              Datetime   AEP_MW\n",
              "0  2004-12-31 01:00:00  13478.0\n",
              "1  2004-12-31 02:00:00  12865.0\n",
              "2  2004-12-31 03:00:00  12577.0\n",
              "3  2004-12-31 04:00:00  12517.0\n",
              "4  2004-12-31 05:00:00  12670.0"
            ]
          },
          "metadata": {
            "tags": []
          },
          "execution_count": 61
        }
      ]
    },
    {
      "cell_type": "code",
      "metadata": {
        "id": "bG0hNuwHSFiF",
        "outputId": "267669f6-6a4e-4711-ef0f-961616ccab57",
        "colab": {
          "base_uri": "https://localhost:8080/",
          "height": 34
        }
      },
      "source": [
        "dados.columns"
      ],
      "execution_count": 62,
      "outputs": [
        {
          "output_type": "execute_result",
          "data": {
            "text/plain": [
              "Index(['Datetime', 'AEP_MW'], dtype='object')"
            ]
          },
          "metadata": {
            "tags": []
          },
          "execution_count": 62
        }
      ]
    },
    {
      "cell_type": "code",
      "metadata": {
        "id": "HtU1GHf2S8oO"
      },
      "source": [
        "# transformando a coluna de dados em lista\n",
        "megawatts = dados['AEP_MW'].tolist()"
      ],
      "execution_count": 63,
      "outputs": []
    },
    {
      "cell_type": "markdown",
      "metadata": {
        "id": "WxUHqCGIThNI"
      },
      "source": [
        "# **Distribuição de Frequência**"
      ]
    },
    {
      "cell_type": "markdown",
      "metadata": {
        "id": "hp-oY1ACTpW5"
      },
      "source": [
        "**Número de classes**"
      ]
    },
    {
      "cell_type": "code",
      "metadata": {
        "id": "Q5amAj_YUVEW"
      },
      "source": [
        "n_classes = 5"
      ],
      "execution_count": 64,
      "outputs": []
    },
    {
      "cell_type": "markdown",
      "metadata": {
        "id": "q_KNUHaExNQI"
      },
      "source": [
        "O número de linhas do data set ultrapassa dez mil entradas, por este motivo foi selecionada uma amostra de três mil entradas para facilitar a ánalise e visualização dos dados."
      ]
    },
    {
      "cell_type": "code",
      "metadata": {
        "id": "N7eXJLLIUYkp"
      },
      "source": [
        "megawatts = megawatts[0:3000]"
      ],
      "execution_count": 65,
      "outputs": []
    },
    {
      "cell_type": "markdown",
      "metadata": {
        "id": "gcZoMWgmVcD7"
      },
      "source": [
        "**Amplitude dos dados**"
      ]
    },
    {
      "cell_type": "code",
      "metadata": {
        "id": "3oeQmif9VeQ2",
        "outputId": "575642d4-0f6c-40f2-a974-61bbac165e98",
        "colab": {
          "base_uri": "https://localhost:8080/",
          "height": 34
        }
      },
      "source": [
        "# calculando a amplitude total\n",
        "maior = max(megawatts)\n",
        "menor = min(megawatts)\n",
        "amplitude = maior - menor\n",
        "maior, menor, amplitude"
      ],
      "execution_count": 66,
      "outputs": [
        {
          "output_type": "execute_result",
          "data": {
            "text/plain": [
              "(22577.0, 10263.0, 12314.0)"
            ]
          },
          "metadata": {
            "tags": []
          },
          "execution_count": 66
        }
      ]
    },
    {
      "cell_type": "markdown",
      "metadata": {
        "id": "8OUYxgF8yTtM"
      },
      "source": [
        "Da amostra coletada o maior consumo de megawatts da empresa foi de 22.577MWh e o menor de 10.263MWh resultando em uma amplitude de 12.314MWh."
      ]
    },
    {
      "cell_type": "markdown",
      "metadata": {
        "id": "gLcoNOHfY265"
      },
      "source": [
        "**Amplitude de classe**"
      ]
    },
    {
      "cell_type": "code",
      "metadata": {
        "id": "E2fmgZy_Y5EJ",
        "outputId": "d1fd5f84-07a3-432b-8bd7-1cf53e4862af",
        "colab": {
          "base_uri": "https://localhost:8080/",
          "height": 34
        }
      },
      "source": [
        "amplitude_classe = round(amplitude/n_classes)\n",
        "amplitude_classe"
      ],
      "execution_count": 67,
      "outputs": [
        {
          "output_type": "execute_result",
          "data": {
            "text/plain": [
              "2463"
            ]
          },
          "metadata": {
            "tags": []
          },
          "execution_count": 67
        }
      ]
    },
    {
      "cell_type": "markdown",
      "metadata": {
        "id": "8rZQ8Mm9zxUS"
      },
      "source": [
        "Foram definidas cinco classes que calculadas com a amplitude da amostra resultam em uma amplitude de classe de 2.463MWh."
      ]
    },
    {
      "cell_type": "markdown",
      "metadata": {
        "id": "RDBFys8pZEf6"
      },
      "source": [
        "**Limites de classes**"
      ]
    },
    {
      "cell_type": "code",
      "metadata": {
        "id": "TFzrvlkpZGgl",
        "outputId": "fc3c30c5-953d-4083-de44-1fc789f56184",
        "colab": {
          "base_uri": "https://localhost:8080/",
          "height": 34
        }
      },
      "source": [
        "limites_inf = [menor]\n",
        "for i in range(n_classes):\n",
        "  limites_inf.append(limites_inf[i]+amplitude_classe)\n",
        "limites_inf"
      ],
      "execution_count": 68,
      "outputs": [
        {
          "output_type": "execute_result",
          "data": {
            "text/plain": [
              "[10263.0, 12726.0, 15189.0, 17652.0, 20115.0, 22578.0]"
            ]
          },
          "metadata": {
            "tags": []
          },
          "execution_count": 68
        }
      ]
    },
    {
      "cell_type": "markdown",
      "metadata": {
        "id": "vSYmLAot0HL_"
      },
      "source": [
        "Os números acima mostram os limites entre as classes para o cálculo de frequência.\n",
        "\n",
        "E a tabela abaixo contém em suas linhas o limite inferior e superior de cada classe."
      ]
    },
    {
      "cell_type": "markdown",
      "metadata": {
        "id": "6tBbJpmIZlp-"
      },
      "source": [
        "**Limites encontrados**\n",
        "<table>\n",
        "  <tr><th>Classes</th><th>Frequência</th></tr>\n",
        "  <tr><td>10263-12725</td><td> </td></tr>\n",
        "  <tr><td>12726-15188</td><td> </td></tr>\n",
        "  <tr><td>15189-17651</td><td> </td></tr>\n",
        "  <tr><td>17652-20114</td><td> </td></tr>\n",
        "  <tr><td>20115-22577</td><td> </td></tr>\n",
        "</table>"
      ]
    },
    {
      "cell_type": "code",
      "metadata": {
        "id": "u8KMt8tXa4S-",
        "outputId": "e06d29bf-f2d6-4ce8-aea7-b69e2448975d",
        "colab": {
          "base_uri": "https://localhost:8080/",
          "height": 105
        }
      },
      "source": [
        "frequencias = {'classe1':0, 'classe2':0, 'classe3':0, 'classe4':0, 'classe5':0}\n",
        "for numero in megawatts:\n",
        "  if numero < limites_inf[1]:\n",
        "    frequencias['classe1'] += 1\n",
        "  elif numero < limites_inf[2]:\n",
        "    frequencias['classe2'] += 1\n",
        "  elif numero < limites_inf[3]:\n",
        "    frequencias['classe3'] += 1\n",
        "  elif numero < limites_inf[4]:\n",
        "    frequencias['classe4'] += 1\n",
        "  else:\n",
        "    frequencias['classe5'] += 1\n",
        "frequencias"
      ],
      "execution_count": 69,
      "outputs": [
        {
          "output_type": "execute_result",
          "data": {
            "text/plain": [
              "{'classe1': 308,\n",
              " 'classe2': 834,\n",
              " 'classe3': 1242,\n",
              " 'classe4': 479,\n",
              " 'classe5': 137}"
            ]
          },
          "metadata": {
            "tags": []
          },
          "execution_count": 69
        }
      ]
    },
    {
      "cell_type": "markdown",
      "metadata": {
        "id": "0c0BPzlyePoK"
      },
      "source": [
        "**Distribuição de frequência**\n",
        "<table>\n",
        "  <tr><th>Classes</th><th>Frequência</th></tr>\n",
        "  <tr><td>10263-12725</td><td>308</td></tr>\n",
        "  <tr><td>12726-15188</td><td>834</td></tr>\n",
        "  <tr><td>15189-17651</td><td>1242</td></tr>\n",
        "  <tr><td>17652-20114</td><td>479</td></tr>\n",
        "  <tr><td>20115-22577</td><td>137</td></tr>\n",
        "</table>"
      ]
    },
    {
      "cell_type": "markdown",
      "metadata": {
        "id": "xhgZQoF20vrY"
      },
      "source": [
        "Na primeira classe foram calculadas 308 instâncias, na segunda 834, na terceira 1.242, na quarta 479 e na quinta classe 137 instâncias. Mostrando que as maiores distribuiçoes de frequência estão entre a segunda e terceira classe."
      ]
    },
    {
      "cell_type": "markdown",
      "metadata": {
        "id": "3r9Ztwu4e38D"
      },
      "source": [
        "# **Frequência relativa**"
      ]
    },
    {
      "cell_type": "code",
      "metadata": {
        "id": "GNXe8voXeyK6",
        "outputId": "f301919c-43a3-4d27-e500-07cbb54ff85d",
        "colab": {
          "base_uri": "https://localhost:8080/",
          "height": 105
        }
      },
      "source": [
        "n_ocorrencias = len(megawatts)\n",
        "for classe in frequencias:\n",
        "  frequencias[classe] = frequencias[classe]/n_ocorrencias\n",
        "frequencias"
      ],
      "execution_count": 70,
      "outputs": [
        {
          "output_type": "execute_result",
          "data": {
            "text/plain": [
              "{'classe1': 0.10266666666666667,\n",
              " 'classe2': 0.278,\n",
              " 'classe3': 0.414,\n",
              " 'classe4': 0.15966666666666668,\n",
              " 'classe5': 0.04566666666666667}"
            ]
          },
          "metadata": {
            "tags": []
          },
          "execution_count": 70
        }
      ]
    },
    {
      "cell_type": "markdown",
      "metadata": {
        "id": "tBAKiZfIhho7"
      },
      "source": [
        "**Distribuição de frequência**\n",
        "<table>\n",
        "  <tr><th>Classes</th><th>Frequência<th></th><th>%<th></tr>\n",
        "  <tr><td>10263-12725</td><td>308<td></td><td>10.26<td></tr>\n",
        "  <tr><td>12726-15188</td><td>834<td></td><td>27.80<td></tr>\n",
        "  <tr><td>15189-17651</td><td>1242<td></td><td>41.40<td></tr>\n",
        "  <tr><td>17652-20114</td><td>479<td></td><td>15.96<td></tr>\n",
        "  <tr><td>20115-22577</td><td>137<td></td><td>4.56<td></tr>\n",
        "</table>\n"
      ]
    },
    {
      "cell_type": "markdown",
      "metadata": {
        "id": "8wMEJrOL1oWs"
      },
      "source": [
        "O cálculo da frequência relativa confirma ressaltando que 85.16% das instâncias estão entre a segunda e terceira classe."
      ]
    },
    {
      "cell_type": "markdown",
      "metadata": {
        "id": "zfUkNei_j7wh"
      },
      "source": [
        "# **Histograma de frequência**"
      ]
    },
    {
      "cell_type": "code",
      "metadata": {
        "id": "s4VAoplmkA2X"
      },
      "source": [
        "import matplotlib.pyplot as plt"
      ],
      "execution_count": 71,
      "outputs": []
    },
    {
      "cell_type": "code",
      "metadata": {
        "id": "XFAunnRYkD2d",
        "outputId": "e3d264ac-79e2-41e7-c01d-7c0966abb437",
        "colab": {
          "base_uri": "https://localhost:8080/",
          "height": 295
        }
      },
      "source": [
        "# histograma de frequência\n",
        "plt.hist(megawatts, 5)\n",
        "plt.xlabel('Classes')\n",
        "plt.ylabel('Quantidade')\n",
        "plt.title('Ocorrências das Classes')\n",
        "plt.grid(True)\n",
        "plt.show()"
      ],
      "execution_count": 72,
      "outputs": [
        {
          "output_type": "display_data",
          "data": {
            "image/png": "[encoded data removed]",
            "text/plain": [
              "<Figure size 432x288 with 1 Axes>"
            ]
          },
          "metadata": {
            "tags": [],
            "needs_background": "light"
          }
        }
      ]
    },
    {
      "cell_type": "markdown",
      "metadata": {
        "id": "UNdzcHGu2XQa"
      },
      "source": [
        "O histograma reforça de maneira visual a maior distribuição de frequência entre as três classes. Revelando que os valores superiores de consumo estão entre 12.726MWh e 20.114MWh"
      ]
    },
    {
      "cell_type": "markdown",
      "metadata": {
        "id": "T6l1nCambpEc"
      },
      "source": [
        "# **Medidas de tendência central**"
      ]
    },
    {
      "cell_type": "markdown",
      "metadata": {
        "id": "r8iEHkrfbtyh"
      },
      "source": [
        "**Média**"
      ]
    },
    {
      "cell_type": "code",
      "metadata": {
        "id": "aMDFJVkpbs3u",
        "outputId": "c4589288-67aa-45f8-f693-b0ad6017c16a",
        "colab": {
          "base_uri": "https://localhost:8080/",
          "height": 34
        }
      },
      "source": [
        "media_megawatts = sum(megawatts)/len(megawatts)\n",
        "media_megawatts"
      ],
      "execution_count": 73,
      "outputs": [
        {
          "output_type": "execute_result",
          "data": {
            "text/plain": [
              "15781.056666666667"
            ]
          },
          "metadata": {
            "tags": []
          },
          "execution_count": 73
        }
      ]
    },
    {
      "cell_type": "markdown",
      "metadata": {
        "id": "2tDbVqzk3X97"
      },
      "source": [
        "A média de consumo por hora da American Electric Power (AEP) é de 15.781,05MWh sendo cerca de 6.000MWh a menos que o maior consumo e 5.000MWh a mais que o menor consumo."
      ]
    },
    {
      "cell_type": "markdown",
      "metadata": {
        "id": "270XTyq3b7di"
      },
      "source": [
        "**Mediana**"
      ]
    },
    {
      "cell_type": "code",
      "metadata": {
        "id": "GSBPNXMlb8aV"
      },
      "source": [
        "# ordenando o conjunto\n",
        "megawatts = sorted(megawatts)\n",
        "megawatts"
      ],
      "execution_count": null,
      "outputs": []
    },
    {
      "cell_type": "code",
      "metadata": {
        "id": "XeWrHk8TcFm9",
        "outputId": "81556763-4662-4aaa-cb0e-1a29ceb308d0",
        "colab": {
          "base_uri": "https://localhost:8080/",
          "height": 34
        }
      },
      "source": [
        "if len(megawatts)%2 == 0:\n",
        "  mediana = (megawatts[int(len(megawatts)/2-1)] + megawatts[int(len(megawatts)/2)])/2\n",
        "else:\n",
        "  mediana = megawatts[int(len(megawatts)/2-1)]\n",
        "mediana"
      ],
      "execution_count": 75,
      "outputs": [
        {
          "output_type": "execute_result",
          "data": {
            "text/plain": [
              "15679.5"
            ]
          },
          "metadata": {
            "tags": []
          },
          "execution_count": 75
        }
      ]
    },
    {
      "cell_type": "markdown",
      "metadata": {
        "id": "Din03H8i5jcO"
      },
      "source": [
        "A mediana de 15.679,5MWh é adjacente à média de consumo por hora."
      ]
    },
    {
      "cell_type": "markdown",
      "metadata": {
        "id": "hK4MGK7McuNB"
      },
      "source": [
        "**Moda**"
      ]
    },
    {
      "cell_type": "code",
      "metadata": {
        "id": "ducnS_nMcnQz"
      },
      "source": [
        "contagens = [0]*len(megawatts)\n",
        "contagens"
      ],
      "execution_count": null,
      "outputs": []
    },
    {
      "cell_type": "code",
      "metadata": {
        "id": "y4ISp5Ofc5oE"
      },
      "source": [
        "for i in range(len(megawatts)):\n",
        "  contagens[i] = megawatts.count(megawatts[i])\n",
        "contagens"
      ],
      "execution_count": null,
      "outputs": []
    },
    {
      "cell_type": "code",
      "metadata": {
        "id": "hB47RNUddGl5",
        "outputId": "d609dc41-a228-443a-ab9f-28e45f1ff040",
        "colab": {
          "base_uri": "https://localhost:8080/",
          "height": 34
        }
      },
      "source": [
        "max(contagens)"
      ],
      "execution_count": 78,
      "outputs": [
        {
          "output_type": "execute_result",
          "data": {
            "text/plain": [
              "4"
            ]
          },
          "metadata": {
            "tags": []
          },
          "execution_count": 78
        }
      ]
    },
    {
      "cell_type": "code",
      "metadata": {
        "id": "pwCb0EIzdMmd"
      },
      "source": [
        "import numpy as np"
      ],
      "execution_count": 79,
      "outputs": []
    },
    {
      "cell_type": "code",
      "metadata": {
        "id": "zEGwZxJBdJK6",
        "outputId": "a82456af-ead2-4ea6-8bb2-538cd7bb061b",
        "colab": {
          "base_uri": "https://localhost:8080/",
          "height": 439
        }
      },
      "source": [
        "indices_moda = np.where(np.array(contagens) == max(contagens))\n",
        "for indice in indices_moda[0]:\n",
        "  print(megawatts[indice])"
      ],
      "execution_count": 80,
      "outputs": [
        {
          "output_type": "stream",
          "text": [
            "14394.0\n",
            "14394.0\n",
            "14394.0\n",
            "14394.0\n",
            "14565.0\n",
            "14565.0\n",
            "14565.0\n",
            "14565.0\n",
            "15261.0\n",
            "15261.0\n",
            "15261.0\n",
            "15261.0\n",
            "15803.0\n",
            "15803.0\n",
            "15803.0\n",
            "15803.0\n",
            "16047.0\n",
            "16047.0\n",
            "16047.0\n",
            "16047.0\n",
            "16546.0\n",
            "16546.0\n",
            "16546.0\n",
            "16546.0\n"
          ],
          "name": "stdout"
        }
      ]
    },
    {
      "cell_type": "markdown",
      "metadata": {
        "id": "SaMEq17Q6oqP"
      },
      "source": [
        "A amostra coletada é multimodal tendo como moda os valores de consumo:\n",
        "*  14.394 MWh\n",
        "*  14.565 MWh\n",
        "*  15.261 MWh\n",
        "*  15.803 MWh\n",
        "*  16.047 MWh\n",
        "*  16.546 MWh\n",
        "\n"
      ]
    },
    {
      "cell_type": "markdown",
      "metadata": {
        "id": "LX4EjxE7dwrg"
      },
      "source": [
        "**Média ponderada**"
      ]
    },
    {
      "cell_type": "markdown",
      "metadata": {
        "id": "NTWcRxXr6GYs"
      },
      "source": [
        "Para a média ponderada será utilizado o cálculo de média da distribuição de frequência do livro ESTATÍSTICA APLICADA de Ron Larson, que define:\n",
        "\n",
        "![Apresentação1.png](data:image/png;base64,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)"
      ]
    },
    {
      "cell_type": "markdown",
      "metadata": {
        "id": "IGeTItd2Ck8j"
      },
      "source": [
        "<table>\n",
        "  <tr><th>Classes</th><th>Frequência<th></th><th>%</th><th>Ponto médio<th></tr>\n",
        "  <tr><td>10263-12725</td><td>308<td></td><td>10.26</td><td>11494<td></tr>\n",
        "  <tr><td>12726-15188</td><td>834<td></td><td>27.80</td><td>13957<td></tr>\n",
        "  <tr><td>15189-17651</td><td>1242<td></td><td>41.40</td><td>16420<td></tr>\n",
        "  <tr><td>17652-20114</td><td>479<td></td><td>15.96</td><td>18883<td></tr>\n",
        "  <tr><td>20115-22577</td><td>137<td></td><td>4.56</td><td>21346<td></tr>\n",
        "</table>"
      ]
    },
    {
      "cell_type": "code",
      "metadata": {
        "id": "TdKeVeGqdyc7",
        "outputId": "236f3ef3-57ee-4855-b1fc-e24b2c372389",
        "colab": {
          "base_uri": "https://localhost:8080/",
          "height": 52
        }
      },
      "source": [
        "media_ponderada = valor = 0\n",
        "pontos_medios = []\n",
        "limites_inf = [10263, 12726, 15189, 17652, 20115]\n",
        "limites_sup = [12725, 15188, 17651, 20114, 22577]\n",
        "frequencia = [308, 834, 1242, 479, 137]\n",
        "# calculando os pontos médios das classes\n",
        "for ponto in range(len(limites_inf)):\n",
        "  ponto_medio = (limites_inf[ponto] + limites_sup[ponto])/2\n",
        "  pontos_medios.append(ponto_medio)\n",
        "print(pontos_medios)\n",
        "# calculando a soma da multiplicação dos pontos médios pela frequência\n",
        "for i in range(len(frequencia)):\n",
        "  valor += pontos_medios[i]*frequencia[i]\n",
        "# calculando a média da distribuição de frequência\n",
        "valor = valor/sum(frequencia)\n",
        "print(valor)\n"
      ],
      "execution_count": 95,
      "outputs": [
        {
          "output_type": "stream",
          "text": [
            "[11494.0, 13957.0, 16420.0, 18883.0, 21346.0]\n",
            "15847.763\n"
          ],
          "name": "stdout"
        }
      ]
    },
    {
      "cell_type": "markdown",
      "metadata": {
        "id": "WKpXPuZ2pzHd"
      },
      "source": [
        "O resultado do cálculo da média foi de 15.847,763MWh número próximo ao cálculo da média dos valores de consumo."
      ]
    },
    {
      "cell_type": "markdown",
      "metadata": {
        "id": "Nd8f6yDvdyqy"
      },
      "source": [
        "# **Medidas de variação**"
      ]
    },
    {
      "cell_type": "markdown",
      "metadata": {
        "id": "5l4R_0kqd2-c"
      },
      "source": [
        "**Amplitude**"
      ]
    },
    {
      "cell_type": "code",
      "metadata": {
        "id": "PG7akYRzd2XI",
        "outputId": "37b66963-efad-4535-fa5c-aa65caea84ef",
        "colab": {
          "base_uri": "https://localhost:8080/",
          "height": 34
        }
      },
      "source": [
        "amplitude = max(megawatts) - min(megawatts)\n",
        "amplitude"
      ],
      "execution_count": 96,
      "outputs": [
        {
          "output_type": "execute_result",
          "data": {
            "text/plain": [
              "12314.0"
            ]
          },
          "metadata": {
            "tags": []
          },
          "execution_count": 96
        }
      ]
    },
    {
      "cell_type": "markdown",
      "metadata": {
        "id": "jVzxm55zkbI-"
      },
      "source": [
        "A amplitude da amostra como já calculado anteriormente é de 12.314 MWh"
      ]
    },
    {
      "cell_type": "markdown",
      "metadata": {
        "id": "cQndPBgNeBCW"
      },
      "source": [
        "**Variância e Desvio padrão**"
      ]
    },
    {
      "cell_type": "code",
      "metadata": {
        "id": "24bSu4aheE5o",
        "outputId": "dce98780-8654-4799-e1b3-85e572692d42",
        "colab": {
          "base_uri": "https://localhost:8080/",
          "height": 34
        }
      },
      "source": [
        "var = 0\n",
        "media = np.mean(megawatts)\n",
        "for numero in megawatts:\n",
        "  var += (numero - media)**2\n",
        "var = var/len(megawatts)\n",
        "var"
      ],
      "execution_count": 97,
      "outputs": [
        {
          "output_type": "execute_result",
          "data": {
            "text/plain": [
              "5384092.508122227"
            ]
          },
          "metadata": {
            "tags": []
          },
          "execution_count": 97
        }
      ]
    },
    {
      "cell_type": "markdown",
      "metadata": {
        "id": "h6RINv6mRmBE"
      },
      "source": [
        "A variância indica \"o quão longe\" em geral os valores se encontram do valor esperado. O valor resultante do calculo da variância foi de 5.384.092.50"
      ]
    },
    {
      "cell_type": "code",
      "metadata": {
        "id": "HhKPBIUAeR6a",
        "outputId": "68baa875-6e8f-4777-f155-6aebb090a83d",
        "colab": {
          "base_uri": "https://localhost:8080/",
          "height": 34
        }
      },
      "source": [
        "desv = var**(1/2)\n",
        "desv"
      ],
      "execution_count": 98,
      "outputs": [
        {
          "output_type": "execute_result",
          "data": {
            "text/plain": [
              "2320.364736010748"
            ]
          },
          "metadata": {
            "tags": []
          },
          "execution_count": 98
        }
      ]
    },
    {
      "cell_type": "markdown",
      "metadata": {
        "id": "FGtOMQ99lcCz"
      },
      "source": [
        "O desvio padrão utilizando a raiz quadrada do resultado de variância da amostra foi de 2.320.36."
      ]
    },
    {
      "cell_type": "code",
      "metadata": {
        "id": "GxSjrV4WegLB",
        "outputId": "5e7868e5-76fa-4af4-881e-9a7ff0b21ce2",
        "colab": {
          "base_uri": "https://localhost:8080/",
          "height": 295
        }
      },
      "source": [
        "dados = np.random.normal(media, desv, 1000)\n",
        "plt.hist(dados, 10)\n",
        "plt.xlabel('Classes')\n",
        "plt.ylabel('Quantidade')\n",
        "plt.title('Dados')\n",
        "plt.grid(True)\n",
        "plt.show()"
      ],
      "execution_count": 99,
      "outputs": [
        {
          "output_type": "display_data",
          "data": {
            "image/png": "[encoded data removed]",
            "text/plain": [
              "<Figure size 432x288 with 1 Axes>"
            ]
          },
          "metadata": {
            "tags": [],
            "needs_background": "light"
          }
        }
      ]
    },
    {
      "cell_type": "markdown",
      "metadata": {
        "id": "rR3ZlOU_mdxt"
      },
      "source": [
        "O histograma acima ilustra a dispersão entre os dados de consumo e a tendência central da amostra.\n"
      ]
    },
    {
      "cell_type": "markdown",
      "metadata": {
        "id": "GvnaKmyKfyue"
      },
      "source": [
        "# **Medidas de posição**"
      ]
    },
    {
      "cell_type": "code",
      "metadata": {
        "id": "WwBeTTfmf2Pt",
        "outputId": "c29425e1-a94c-4858-dd69-7cec7a691061",
        "colab": {
          "base_uri": "https://localhost:8080/",
          "height": 295
        }
      },
      "source": [
        "plt.boxplot(megawatts)\n",
        "plt.title('Boxplot do número de Megawatts por hora')\n",
        "plt.xlabel('Quantidade')\n",
        "plt.grid()\n",
        "plt.show()"
      ],
      "execution_count": 100,
      "outputs": [
        {
          "output_type": "display_data",
          "data": {
            "image/png": "[encoded data removed]",
            "text/plain": [
              "<Figure size 432x288 with 1 Axes>"
            ]
          },
          "metadata": {
            "tags": [],
            "needs_background": "light"
          }
        }
      ]
    },
    {
      "cell_type": "markdown",
      "metadata": {
        "id": "jf0kZvRIm26O"
      },
      "source": [
        "O primeiro quartil está um pouco acima dos 14.000MWh, o segundo por sua vez está abaixo dos 16.000MWh e pode-se concluir que o terceiro está entre os 17.000MWh e 18.000MWh. Com os limites superior e inferior sendo 22577MWh e 10263MWh respectivamente. Além disso, o gráfico mostra um número considerável de outliers."
      ]
    },
    {
      "cell_type": "markdown",
      "metadata": {
        "id": "cQGn0Cd2n446"
      },
      "source": [
        "# **Referências**"
      ]
    },
    {
      "cell_type": "markdown",
      "metadata": {
        "id": "KsVMogrG6tgq"
      },
      "source": [
        "* MULLA, Rob. Hourly Energy Consumption. Kaggle, 2018. Disponível em: https://www.kaggle.com/robikscube/hourly-energy-consumption?select=AEP_hourly.csv. Acesso em: 15 Out. 2020.\n",
        "\n",
        "* MODA (estatística). Wikipedia, 2020. Disponível em: https://pt.wikipedia.org/wiki/Moda_(estat%C3%ADstica). Acesso em: 16 Out. 2020.\n",
        "\n",
        "* VARIÂNCIA. Wikipedia, 2019. Disponível em: https://pt.wikipedia.org/wiki/Vari%C3%A2ncia. Acesso em: 16 Out. 2020.\n",
        "\n"
      ]
    }
  ]
}