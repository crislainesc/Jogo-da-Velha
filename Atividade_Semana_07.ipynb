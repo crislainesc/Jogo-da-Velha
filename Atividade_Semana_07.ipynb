{
  "nbformat": 4,
  "nbformat_minor": 0,
  "metadata": {
    "colab": {
      "name": "Atividade Semana 07.ipynb",
      "provenance": [],
      "collapsed_sections": [],
      "authorship_tag": "ABX9TyO47tjpdLRuAB/6Q+3MzC9Y",
      "include_colab_link": true
    },
    "kernelspec": {
      "name": "python3",
      "display_name": "Python 3"
    }
  },
  "cells": [
    {
      "cell_type": "markdown",
      "metadata": {
        "id": "view-in-github",
        "colab_type": "text"
      },
      "source": [
        "<a href=\"https://colab.research.google.com/github/crislainesc/Jogo-da-Velha/blob/master/Atividade_Semana_07.ipynb\" target=\"_parent\"><img src=\"https://colab.research.google.com/assets/colab-badge.svg\" alt=\"Open In Colab\"/></a>"
      ]
    },
    {
      "cell_type": "markdown",
      "metadata": {
        "id": "_PrNaazOAp2v"
      },
      "source": [
        "# **Estatística e Probabilidade**\n",
        "\n",
        "Data set com atributos clínicos para avaliação do evento de morte por insuficiência cardíaca.\n",
        "\n",
        "*   Os dados descrevem condições clínicas como diabetes, anemia e características pessoais tais como sexo, idade e tabagismo.\n",
        "*   [Heart Failure Prediction](https://www.kaggle.com/andrewmvd/heart-failure-clinical-data)\n",
        "*   Serão testadas hipóteses em relação as características de gênero (feminino e masculino).\n"
      ]
    },
    {
      "cell_type": "markdown",
      "metadata": {
        "id": "gxxj2ivpBFyu"
      },
      "source": [
        "# **Leitura dos dados**"
      ]
    },
    {
      "cell_type": "code",
      "metadata": {
        "colab": {
          "base_uri": "https://localhost:8080/",
          "height": 0
        },
        "id": "d5hVuideAN9G",
        "outputId": "f629a322-c2a5-4a2f-9567-8ecd0f9c8325"
      },
      "source": [
        "# criando ambiente no google drive\n",
        "from google.colab import drive\n",
        "drive.mount(\"/content/drive\")"
      ],
      "execution_count": 1,
      "outputs": [
        {
          "output_type": "stream",
          "text": [
            "Mounted at /content/drive\n"
          ],
          "name": "stdout"
        }
      ]
    },
    {
      "cell_type": "code",
      "metadata": {
        "id": "tvPqFAT1BU1p"
      },
      "source": [
        "# importando bibliotecas\n",
        "import pandas as pd\n",
        "import seaborn as sns\n",
        "import matplotlib.pyplot as plt\n",
        "from scipy.stats import norm\n",
        "from math import sqrt\n",
        "import numpy as np\n",
        "from scipy.stats import t"
      ],
      "execution_count": 2,
      "outputs": []
    },
    {
      "cell_type": "code",
      "metadata": {
        "colab": {
          "base_uri": "https://localhost:8080/",
          "height": 224
        },
        "id": "qJglX06nBoyP",
        "outputId": "55c51d0f-7dd8-4b79-da99-8237e716d0d6"
      },
      "source": [
        "# lendo arquivo csv\n",
        "dados = pd.read_csv(\"/content/drive/My Drive/Colab Notebooks/Estatística e Probabilidade/Semana 7/heart_failure_clinical_records_dataset.csv\")\n",
        "dados.head()"
      ],
      "execution_count": 3,
      "outputs": [
        {
          "output_type": "execute_result",
          "data": {
            "text/html": [
              "<div>\n",
              "<style scoped>\n",
              "    .dataframe tbody tr th:only-of-type {\n",
              "        vertical-align: middle;\n",
              "    }\n",
              "\n",
              "    .dataframe tbody tr th {\n",
              "        vertical-align: top;\n",
              "    }\n",
              "\n",
              "    .dataframe thead th {\n",
              "        text-align: right;\n",
              "    }\n",
              "</style>\n",
              "<table border=\"1\" class=\"dataframe\">\n",
              "  <thead>\n",
              "    <tr style=\"text-align: right;\">\n",
              "      <th></th>\n",
              "      <th>age</th>\n",
              "      <th>anaemia</th>\n",
              "      <th>creatinine_phosphokinase</th>\n",
              "      <th>diabetes</th>\n",
              "      <th>ejection_fraction</th>\n",
              "      <th>high_blood_pressure</th>\n",
              "      <th>platelets</th>\n",
              "      <th>serum_creatinine</th>\n",
              "      <th>serum_sodium</th>\n",
              "      <th>sex</th>\n",
              "      <th>smoking</th>\n",
              "      <th>time</th>\n",
              "      <th>DEATH_EVENT</th>\n",
              "    </tr>\n",
              "  </thead>\n",
              "  <tbody>\n",
              "    <tr>\n",
              "      <th>0</th>\n",
              "      <td>75.0</td>\n",
              "      <td>0</td>\n",
              "      <td>582</td>\n",
              "      <td>0</td>\n",
              "      <td>20</td>\n",
              "      <td>1</td>\n",
              "      <td>265000.00</td>\n",
              "      <td>1.9</td>\n",
              "      <td>130</td>\n",
              "      <td>1</td>\n",
              "      <td>0</td>\n",
              "      <td>4</td>\n",
              "      <td>1</td>\n",
              "    </tr>\n",
              "    <tr>\n",
              "      <th>1</th>\n",
              "      <td>55.0</td>\n",
              "      <td>0</td>\n",
              "      <td>7861</td>\n",
              "      <td>0</td>\n",
              "      <td>38</td>\n",
              "      <td>0</td>\n",
              "      <td>263358.03</td>\n",
              "      <td>1.1</td>\n",
              "      <td>136</td>\n",
              "      <td>1</td>\n",
              "      <td>0</td>\n",
              "      <td>6</td>\n",
              "      <td>1</td>\n",
              "    </tr>\n",
              "    <tr>\n",
              "      <th>2</th>\n",
              "      <td>65.0</td>\n",
              "      <td>0</td>\n",
              "      <td>146</td>\n",
              "      <td>0</td>\n",
              "      <td>20</td>\n",
              "      <td>0</td>\n",
              "      <td>162000.00</td>\n",
              "      <td>1.3</td>\n",
              "      <td>129</td>\n",
              "      <td>1</td>\n",
              "      <td>1</td>\n",
              "      <td>7</td>\n",
              "      <td>1</td>\n",
              "    </tr>\n",
              "    <tr>\n",
              "      <th>3</th>\n",
              "      <td>50.0</td>\n",
              "      <td>1</td>\n",
              "      <td>111</td>\n",
              "      <td>0</td>\n",
              "      <td>20</td>\n",
              "      <td>0</td>\n",
              "      <td>210000.00</td>\n",
              "      <td>1.9</td>\n",
              "      <td>137</td>\n",
              "      <td>1</td>\n",
              "      <td>0</td>\n",
              "      <td>7</td>\n",
              "      <td>1</td>\n",
              "    </tr>\n",
              "    <tr>\n",
              "      <th>4</th>\n",
              "      <td>65.0</td>\n",
              "      <td>1</td>\n",
              "      <td>160</td>\n",
              "      <td>1</td>\n",
              "      <td>20</td>\n",
              "      <td>0</td>\n",
              "      <td>327000.00</td>\n",
              "      <td>2.7</td>\n",
              "      <td>116</td>\n",
              "      <td>0</td>\n",
              "      <td>0</td>\n",
              "      <td>8</td>\n",
              "      <td>1</td>\n",
              "    </tr>\n",
              "  </tbody>\n",
              "</table>\n",
              "</div>"
            ],
            "text/plain": [
              "    age  anaemia  creatinine_phosphokinase  ...  smoking  time  DEATH_EVENT\n",
              "0  75.0        0                       582  ...        0     4            1\n",
              "1  55.0        0                      7861  ...        0     6            1\n",
              "2  65.0        0                       146  ...        1     7            1\n",
              "3  50.0        1                       111  ...        0     7            1\n",
              "4  65.0        1                       160  ...        0     8            1\n",
              "\n",
              "[5 rows x 13 columns]"
            ]
          },
          "metadata": {
            "tags": []
          },
          "execution_count": 3
        }
      ]
    },
    {
      "cell_type": "code",
      "metadata": {
        "id": "YT7FLo6ZDOSX"
      },
      "source": [
        "# separando os pacientes pelo gênero masculino e feminino\n",
        "homens = dados[dados.sex == 1].reset_index(drop=True)\n",
        "mulheres = dados[dados.sex == 0].reset_index(drop=True)"
      ],
      "execution_count": 4,
      "outputs": []
    },
    {
      "cell_type": "markdown",
      "metadata": {
        "id": "1Rp18XEZDjp-"
      },
      "source": [
        "# **Testes de hipótese**"
      ]
    },
    {
      "cell_type": "markdown",
      "metadata": {
        "id": "V91cWrKjFXH_"
      },
      "source": [
        "**Testando o atributo evento de morte.**"
      ]
    },
    {
      "cell_type": "code",
      "metadata": {
        "colab": {
          "base_uri": "https://localhost:8080/",
          "height": 383
        },
        "id": "PE5ldhvxDm9_",
        "outputId": "81f00c89-82b9-4997-ff9a-94fc5308f28a"
      },
      "source": [
        "sns.distplot(homens.DEATH_EVENT, hist=False, rug=False, label=\"Homens\")\n",
        "sns.distplot(mulheres.DEATH_EVENT, hist=False, rug=False, label=\"Mulheres\")\n",
        "plt.xlabel(\"Evento de Morte\")\n",
        "plt.ylabel(\"Probabilidades\")\n",
        "plt.title(\"Evento de morte\")\n",
        "plt.legend()\n",
        "plt.show()"
      ],
      "execution_count": 5,
      "outputs": [
        {
          "output_type": "stream",
          "text": [
            "/usr/local/lib/python3.6/dist-packages/seaborn/distributions.py:2551: FutureWarning: `distplot` is a deprecated function and will be removed in a future version. Please adapt your code to use either `displot` (a figure-level function with similar flexibility) or `kdeplot` (an axes-level function for kernel density plots).\n",
            "  warnings.warn(msg, FutureWarning)\n",
            "/usr/local/lib/python3.6/dist-packages/seaborn/distributions.py:2551: FutureWarning: `distplot` is a deprecated function and will be removed in a future version. Please adapt your code to use either `displot` (a figure-level function with similar flexibility) or `kdeplot` (an axes-level function for kernel density plots).\n",
            "  warnings.warn(msg, FutureWarning)\n"
          ],
          "name": "stderr"
        },
        {
          "output_type": "display_data",
          "data": {
            "image/png": "[encoded data removed]",
            "text/plain": [
              "<Figure size 432x288 with 1 Axes>"
            ]
          },
          "metadata": {
            "tags": [],
            "needs_background": "light"
          }
        }
      ]
    },
    {
      "cell_type": "code",
      "metadata": {
        "colab": {
          "base_uri": "https://localhost:8080/",
          "height": 0
        },
        "id": "9Ery9kDRESMY",
        "outputId": "334e95d8-586a-49ec-a2bc-8bb224042a95"
      },
      "source": [
        "# calculando estatísticas das amostras\n",
        "x1 = homens.DEATH_EVENT.mean()\n",
        "s1 = homens.DEATH_EVENT.std()\n",
        "\n",
        "x2 = mulheres.DEATH_EVENT.mean()\n",
        "s2 = mulheres.DEATH_EVENT.std()\n",
        "\n",
        "print(x1, s1)\n",
        "print(x2, s2)"
      ],
      "execution_count": 6,
      "outputs": [
        {
          "output_type": "stream",
          "text": [
            "0.31958762886597936 0.4675233335470303\n",
            "0.3238095238095238 0.4701725970984183\n"
          ],
          "name": "stdout"
        }
      ]
    },
    {
      "cell_type": "code",
      "metadata": {
        "colab": {
          "base_uri": "https://localhost:8080/",
          "height": 0
        },
        "id": "jOaWHfeLEyNx",
        "outputId": "ddd56fca-ddb3-46ce-f866-27a86e4b1418"
      },
      "source": [
        "n1 = homens.shape[0]\n",
        "n2 = mulheres.shape[0]\n",
        "print(\"Quantidade de homens: \",n1)\n",
        "print(\"Quantidade de mulheres: \",n2)"
      ],
      "execution_count": 7,
      "outputs": [
        {
          "output_type": "stream",
          "text": [
            "Quantidade de homens:  194\n",
            "Quantidade de mulheres:  105\n"
          ],
          "name": "stdout"
        }
      ]
    },
    {
      "cell_type": "markdown",
      "metadata": {
        "id": "Vc6W64JVFeKn"
      },
      "source": [
        "**Testando a hipótese de que as duas distribuições tem a mesma média, ao nível de 10%.**\n",
        "\n",
        "1. Hipóteses\n",
        "\n",
        " *   $H_0 : \\mu_1 - \\mu_2 = 0$\n",
        " *   $H_a : \\mu_1 - \\mu_2 \\neq 0$\n",
        "\n",
        "2. Nível de significância\n",
        "\n",
        " *   $\\alpha = 0.10$\n"
      ]
    },
    {
      "cell_type": "code",
      "metadata": {
        "id": "92xFN93uGKvo"
      },
      "source": [
        "# estabelecendo nível de confiança do teste\n",
        "alpha = 0.10"
      ],
      "execution_count": 8,
      "outputs": []
    },
    {
      "cell_type": "markdown",
      "metadata": {
        "id": "NAtT44pnGR5X"
      },
      "source": [
        "3. Regiões de não-rejeição e críticas"
      ]
    },
    {
      "cell_type": "code",
      "metadata": {
        "colab": {
          "base_uri": "https://localhost:8080/",
          "height": 0
        },
        "id": "txwI7W9AGQt1",
        "outputId": "047d231d-bd97-4722-8797-c4a85933ffff"
      },
      "source": [
        "zc = norm.ppf(1-alpha/2)\n",
        "zc"
      ],
      "execution_count": 9,
      "outputs": [
        {
          "output_type": "execute_result",
          "data": {
            "text/plain": [
              "1.6448536269514722"
            ]
          },
          "metadata": {
            "tags": []
          },
          "execution_count": 9
        }
      ]
    },
    {
      "cell_type": "markdown",
      "metadata": {
        "id": "9Zq0XwB6Gd9Y"
      },
      "source": [
        "4. Estatística do teste\n",
        "  * $Z_{calc} = \\dfrac{(\\overline{x_1} - \\overline{x_2}) - (\\mu_1 - \\mu_2)}{\\sqrt{\\dfrac{s_1^2}{n_1} + \\dfrac{s_2^2}{n_2}}}$"
      ]
    },
    {
      "cell_type": "code",
      "metadata": {
        "colab": {
          "base_uri": "https://localhost:8080/",
          "height": 0
        },
        "id": "F58O0ghdGlGA",
        "outputId": "458ee0c4-efc4-440b-dd0c-05959db8afcb"
      },
      "source": [
        "z_calc = (x1-x2)/(sqrt((s1**2)/n1 + (s2**2)/n2))\n",
        "z_calc"
      ],
      "execution_count": 10,
      "outputs": [
        {
          "output_type": "execute_result",
          "data": {
            "text/plain": [
              "-0.07426234407237912"
            ]
          },
          "metadata": {
            "tags": []
          },
          "execution_count": 10
        }
      ]
    },
    {
      "cell_type": "markdown",
      "metadata": {
        "id": "j5d85doPG0xv"
      },
      "source": [
        "5. Decisão"
      ]
    },
    {
      "cell_type": "code",
      "metadata": {
        "colab": {
          "base_uri": "https://localhost:8080/",
          "height": 0
        },
        "id": "SeoiEfLcG2An",
        "outputId": "e84080ae-54aa-4622-9a08-528e926d3422"
      },
      "source": [
        "# tomando a decisão\n",
        "if z_calc < -zc or z_calc > zc:\n",
        "  print(\"Rejeita H0\")\n",
        "else:\n",
        "  print(\"Falha em rejeitar H0\")"
      ],
      "execution_count": 11,
      "outputs": [
        {
          "output_type": "stream",
          "text": [
            "Falha em rejeitar H0\n"
          ],
          "name": "stdout"
        }
      ]
    },
    {
      "cell_type": "markdown",
      "metadata": {
        "id": "jH1a3dvgHHWC"
      },
      "source": [
        "A estatística do teste está dentro da região de não-rejeição, ou seja as médias de evento de morte em homens e mulheres dos pacientes observados são estatisticamente equivalentes."
      ]
    },
    {
      "cell_type": "markdown",
      "metadata": {
        "id": "PPxbJxDQHeWd"
      },
      "source": [
        "**Testando o atributo plaquetas**"
      ]
    },
    {
      "cell_type": "code",
      "metadata": {
        "colab": {
          "base_uri": "https://localhost:8080/",
          "height": 383
        },
        "id": "tndr2sVaH2BC",
        "outputId": "bf4ec247-6e65-4532-9ac3-c02bb8fa6c73"
      },
      "source": [
        "sns.distplot(homens.platelets, hist=False, rug=False, label=\"Homens\")\n",
        "sns.distplot(mulheres.platelets, hist=False, rug=False, label=\"Mulheres\")\n",
        "plt.xlabel(\"Plaquetas\")\n",
        "plt.ylabel(\"Probabilidades\")\n",
        "plt.title(\"Valores das plaquetas\")\n",
        "plt.legend()\n",
        "plt.show()"
      ],
      "execution_count": 12,
      "outputs": [
        {
          "output_type": "stream",
          "text": [
            "/usr/local/lib/python3.6/dist-packages/seaborn/distributions.py:2551: FutureWarning: `distplot` is a deprecated function and will be removed in a future version. Please adapt your code to use either `displot` (a figure-level function with similar flexibility) or `kdeplot` (an axes-level function for kernel density plots).\n",
            "  warnings.warn(msg, FutureWarning)\n",
            "/usr/local/lib/python3.6/dist-packages/seaborn/distributions.py:2551: FutureWarning: `distplot` is a deprecated function and will be removed in a future version. Please adapt your code to use either `displot` (a figure-level function with similar flexibility) or `kdeplot` (an axes-level function for kernel density plots).\n",
            "  warnings.warn(msg, FutureWarning)\n"
          ],
          "name": "stderr"
        },
        {
          "output_type": "display_data",
          "data": {
            "image/png": "[encoded data removed]",
            "text/plain": [
              "<Figure size 432x288 with 1 Axes>"
            ]
          },
          "metadata": {
            "tags": [],
            "needs_background": "light"
          }
        }
      ]
    },
    {
      "cell_type": "code",
      "metadata": {
        "colab": {
          "base_uri": "https://localhost:8080/",
          "height": 0
        },
        "id": "PowS-ZLRdOxQ",
        "outputId": "5f9a3476-bf6f-464e-f31f-a5dca2862c4d"
      },
      "source": [
        "# calculando estatísticas das amostras\n",
        "x1 = homens.platelets.mean()\n",
        "s1 = homens.platelets.std()\n",
        "\n",
        "x2 = mulheres.platelets.mean()\n",
        "s2 = mulheres.platelets.std()\n",
        "\n",
        "print(x1, s1)\n",
        "print(x2, s2)"
      ],
      "execution_count": 13,
      "outputs": [
        {
          "output_type": "stream",
          "text": [
            "254370.24989690728 94447.36393901039\n",
            "279964.0216190477 102108.74955789119\n"
          ],
          "name": "stdout"
        }
      ]
    },
    {
      "cell_type": "markdown",
      "metadata": {
        "id": "-mOx0hB_fOJR"
      },
      "source": [
        "**Testando a hipótese de que as duas distribuições tem a mesma média, ao nível de 10%.**\n",
        "\n",
        "1. Hipóteses\n",
        "\n",
        " *   $H_0 : \\mu_1 - \\mu_2 = 0$\n",
        " *   $H_a : \\mu_1 - \\mu_2 \\neq 0$\n",
        "\n",
        "2. Nível de significância\n",
        "\n",
        " *   $\\alpha = 0.10$\n"
      ]
    },
    {
      "cell_type": "code",
      "metadata": {
        "id": "H1oIgKRleSux"
      },
      "source": [
        "# estabelecendo nível de confiança do teste\n",
        "alpha = 0.10"
      ],
      "execution_count": 14,
      "outputs": []
    },
    {
      "cell_type": "markdown",
      "metadata": {
        "id": "4X-5p_eXfOJS"
      },
      "source": [
        "3. Regiões de não-rejeição e críticas"
      ]
    },
    {
      "cell_type": "code",
      "metadata": {
        "colab": {
          "base_uri": "https://localhost:8080/",
          "height": 0
        },
        "id": "8BmUy-FneVEr",
        "outputId": "dcb7781e-20ab-420b-8379-2eff9658d55e"
      },
      "source": [
        "zc = norm.ppf(1-alpha/2)\n",
        "zc"
      ],
      "execution_count": 15,
      "outputs": [
        {
          "output_type": "execute_result",
          "data": {
            "text/plain": [
              "1.6448536269514722"
            ]
          },
          "metadata": {
            "tags": []
          },
          "execution_count": 15
        }
      ]
    },
    {
      "cell_type": "markdown",
      "metadata": {
        "id": "0t6_VHJgfOJS"
      },
      "source": [
        "4. Estatística do teste\n",
        "  * $Z_{calc} = \\dfrac{(\\overline{x_1} - \\overline{x_2}) - (\\mu_1 - \\mu_2)}{\\sqrt{\\dfrac{s_1^2}{n_1} + \\dfrac{s_2^2}{n_2}}}$"
      ]
    },
    {
      "cell_type": "code",
      "metadata": {
        "colab": {
          "base_uri": "https://localhost:8080/",
          "height": 0
        },
        "id": "PkNs8RR8eeQZ",
        "outputId": "d5084632-4f1a-4164-c92a-597092bd7642"
      },
      "source": [
        "z_calc = (x1-x2)/(sqrt((s1**2)/n1 + (s2**2)/n2))\n",
        "z_calc"
      ],
      "execution_count": 16,
      "outputs": [
        {
          "output_type": "execute_result",
          "data": {
            "text/plain": [
              "-2.1234120204614633"
            ]
          },
          "metadata": {
            "tags": []
          },
          "execution_count": 16
        }
      ]
    },
    {
      "cell_type": "markdown",
      "metadata": {
        "id": "6uuJdgKTfOJS"
      },
      "source": [
        "5. Decisão"
      ]
    },
    {
      "cell_type": "code",
      "metadata": {
        "colab": {
          "base_uri": "https://localhost:8080/",
          "height": 0
        },
        "id": "uVvUSh5mfe5b",
        "outputId": "1992ce57-d1e4-496a-d36a-f77326703a23"
      },
      "source": [
        "# tomando a decisão\n",
        "if z_calc < -zc or z_calc > zc:\n",
        "  print(\"Rejeita H0\")\n",
        "else:\n",
        "  print(\"Falha em rejeitar H0\")"
      ],
      "execution_count": 17,
      "outputs": [
        {
          "output_type": "stream",
          "text": [
            "Rejeita H0\n"
          ],
          "name": "stdout"
        }
      ]
    },
    {
      "cell_type": "markdown",
      "metadata": {
        "id": "Ici4MRCJfs40"
      },
      "source": [
        "Tendo como base as regiões de não rejeição que estão no intervalo $[-1.64 < x < 1.64]$ podemos tomar a decisão de que as médias das amostras coletadas para o nível de plaquetas dos pacientes observados são estatisticamente divergentes com 10% de risco de rejeitarmos uma hipótese verdadeira."
      ]
    },
    {
      "cell_type": "markdown",
      "metadata": {
        "id": "vgBOM2Ewfu-U"
      },
      "source": [
        "**Testando o atributo idade em uma amostra pequena.**"
      ]
    },
    {
      "cell_type": "code",
      "metadata": {
        "id": "I0RNauocgcVH"
      },
      "source": [
        "homens = homens[:20]\n",
        "mulheres = mulheres[:20]"
      ],
      "execution_count": 18,
      "outputs": []
    },
    {
      "cell_type": "code",
      "metadata": {
        "colab": {
          "base_uri": "https://localhost:8080/",
          "height": 383
        },
        "id": "jk67x7yngwzt",
        "outputId": "34d5ad65-57a1-4c54-89bb-bc110b34d425"
      },
      "source": [
        "# distribuição de probabilidade comparando as idades das duas amostras\n",
        "sns.distplot(homens.age, hist=False, rug=False, label=\"Homens\")\n",
        "sns.distplot(mulheres.age, hist=False, rug=False, label=\"Mulheres\")\n",
        "plt.xlabel(\"Idades\")\n",
        "plt.ylabel(\"Probabilidades\")\n",
        "plt.title(\"Idade dos pacientes\")\n",
        "plt.legend()\n",
        "plt.show()\n",
        "                                                                "
      ],
      "execution_count": 19,
      "outputs": [
        {
          "output_type": "stream",
          "text": [
            "/usr/local/lib/python3.6/dist-packages/seaborn/distributions.py:2551: FutureWarning: `distplot` is a deprecated function and will be removed in a future version. Please adapt your code to use either `displot` (a figure-level function with similar flexibility) or `kdeplot` (an axes-level function for kernel density plots).\n",
            "  warnings.warn(msg, FutureWarning)\n",
            "/usr/local/lib/python3.6/dist-packages/seaborn/distributions.py:2551: FutureWarning: `distplot` is a deprecated function and will be removed in a future version. Please adapt your code to use either `displot` (a figure-level function with similar flexibility) or `kdeplot` (an axes-level function for kernel density plots).\n",
            "  warnings.warn(msg, FutureWarning)\n"
          ],
          "name": "stderr"
        },
        {
          "output_type": "display_data",
          "data": {
            "image/png": "[encoded data removed]",
            "text/plain": [
              "<Figure size 432x288 with 1 Axes>"
            ]
          },
          "metadata": {
            "tags": [],
            "needs_background": "light"
          }
        }
      ]
    },
    {
      "cell_type": "code",
      "metadata": {
        "colab": {
          "base_uri": "https://localhost:8080/",
          "height": 0
        },
        "id": "BY8STQz4hSQ2",
        "outputId": "08d12674-94b0-47fa-cc34-fd21b87b72f4"
      },
      "source": [
        "x1 = homens.age.mean()\n",
        "s1 = homens.age.std()\n",
        "\n",
        "x2 = mulheres.age.mean()\n",
        "s2 = mulheres.age.std()\n",
        "\n",
        "print(x1, s1)\n",
        "print(x2, s2)"
      ],
      "execution_count": 20,
      "outputs": [
        {
          "output_type": "stream",
          "text": [
            "66.25 14.00704709855195\n",
            "62.45 12.002083152519816\n"
          ],
          "name": "stdout"
        }
      ]
    },
    {
      "cell_type": "markdown",
      "metadata": {
        "id": "4J47JbEvjxeE"
      },
      "source": [
        "**Testando a hipótese de que as duas distribuições tem a mesma média, ao nível de 10%.**\n",
        "\n",
        "1. Hipóteses\n",
        "\n",
        " *   $H_0 : \\mu_1 - \\mu_2 = 0$\n",
        " *   $H_a : \\mu_1 - \\mu_2 \\neq 0$\n",
        "\n",
        "2. Nível de significância\n",
        "\n",
        " *   $\\alpha = 0.10$"
      ]
    },
    {
      "cell_type": "code",
      "metadata": {
        "id": "OEwkPJTVhlTT"
      },
      "source": [
        "n1 = homens.shape[0]\n",
        "n2 = mulheres.shape[0]"
      ],
      "execution_count": 21,
      "outputs": []
    },
    {
      "cell_type": "markdown",
      "metadata": {
        "id": "2zzj-deQkWl2"
      },
      "source": [
        "3. Regiões de não-rejeição e críticas"
      ]
    },
    {
      "cell_type": "code",
      "metadata": {
        "id": "v2w8fyaShvvL"
      },
      "source": [
        "phi = n1 -1 if n1 < n2 else n2 - 1"
      ],
      "execution_count": 22,
      "outputs": []
    },
    {
      "cell_type": "code",
      "metadata": {
        "colab": {
          "base_uri": "https://localhost:8080/",
          "height": 0
        },
        "id": "k_Rak4z-iBn-",
        "outputId": "b637beda-644d-4ef3-e7f6-444cd4c04f66"
      },
      "source": [
        "# recuperando t na tabela\n",
        "t_alpha_phi = t.ppf(1 - alpha/2, phi)\n",
        "t_alpha_phi"
      ],
      "execution_count": 23,
      "outputs": [
        {
          "output_type": "execute_result",
          "data": {
            "text/plain": [
              "1.729132811521367"
            ]
          },
          "metadata": {
            "tags": []
          },
          "execution_count": 23
        }
      ]
    },
    {
      "cell_type": "markdown",
      "metadata": {
        "id": "B4zvB8-FiPZH"
      },
      "source": [
        "4. Estatística do teste para variâncias diferentes\n",
        "\n",
        "  $t_{calc} = \\dfrac{(\\overline{x_1} - \\overline{x_2})-(\\mu_1 - \\mu_2)}{\\sqrt{\\dfrac{s_1^2}{n_1}+\\dfrac{s_2^2}{n_2}}}$"
      ]
    },
    {
      "cell_type": "code",
      "metadata": {
        "colab": {
          "base_uri": "https://localhost:8080/",
          "height": 0
        },
        "id": "pz2EsbwTiS2A",
        "outputId": "ab65753c-e59f-49c4-d7ca-895d7e4b3ed4"
      },
      "source": [
        "t_calc = (x1-x2)/(sqrt((s1**2)/n1 + (s2**2/n2)))\n",
        "t_calc"
      ],
      "execution_count": 26,
      "outputs": [
        {
          "output_type": "execute_result",
          "data": {
            "text/plain": [
              "0.9213002881378345"
            ]
          },
          "metadata": {
            "tags": []
          },
          "execution_count": 26
        }
      ]
    },
    {
      "cell_type": "markdown",
      "metadata": {
        "id": "yrFMReA2kfh8"
      },
      "source": [
        "5. Decisão"
      ]
    },
    {
      "cell_type": "code",
      "metadata": {
        "colab": {
          "base_uri": "https://localhost:8080/",
          "height": 0
        },
        "id": "R0RU2VQ4iyyN",
        "outputId": "fe0dea53-f39a-419c-c16a-8ea7917ef545"
      },
      "source": [
        "if t_calc < -abs(t_alpha_phi) or t_calc > abs(t_alpha_phi):\n",
        "  print(\"Rejeite H0\")\n",
        "else:\n",
        "  print(\"Falha em rejeitar H0\")"
      ],
      "execution_count": 25,
      "outputs": [
        {
          "output_type": "stream",
          "text": [
            "Falha em rejeitar H0\n"
          ],
          "name": "stdout"
        }
      ]
    },
    {
      "cell_type": "markdown",
      "metadata": {
        "id": "xYTxdXt1jBvf"
      },
      "source": [
        "Apesar das médias de idades possuirem diferença numérica, com base no teste de hipóteses é possível afirmar que tais médias são estatísticamente semelhantes."
      ]
    },
    {
      "cell_type": "markdown",
      "metadata": {
        "id": "I8FNuxzZjCo8"
      },
      "source": [
        "# **Conclusões**"
      ]
    },
    {
      "cell_type": "markdown",
      "metadata": {
        "id": "87Uf10KcjEnS"
      },
      "source": [
        "Analisando atributos como evento de morte, plaquetas e idades dos pacientes, pôde-se presumir como os mesmos se comportariam utilizando testes de hipóteses. Houve atributos como o de evento de morte e idade que não possuíram uma diferença estatística significante, já o atributo com a medição do nível de plaquetas mostrou possuir tal diferença, rejeitando a hipótese principal e dando razão a hipótese alternativa."
      ]
    }
  ]
}