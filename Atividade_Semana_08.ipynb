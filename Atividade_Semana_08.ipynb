{
  "nbformat": 4,
  "nbformat_minor": 0,
  "metadata": {
    "colab": {
      "name": "Atividade Semana 08.ipynb",
      "provenance": [],
      "collapsed_sections": [],
      "authorship_tag": "ABX9TyNdJ6aQMWYJRamWz3uXrb63",
      "include_colab_link": true
    },
    "kernelspec": {
      "name": "python3",
      "display_name": "Python 3"
    }
  },
  "cells": [
    {
      "cell_type": "markdown",
      "metadata": {
        "id": "view-in-github",
        "colab_type": "text"
      },
      "source": [
        "<a href=\"https://colab.research.google.com/github/crislainesc/Jogo-da-Velha/blob/master/Atividade_Semana_08.ipynb\" target=\"_parent\"><img src=\"https://colab.research.google.com/assets/colab-badge.svg\" alt=\"Open In Colab\"/></a>"
      ]
    },
    {
      "cell_type": "markdown",
      "metadata": {
        "id": "Mg5dM0Pz1tel"
      },
      "source": [
        "# **Estatística e Probabilidade**\n",
        "\n",
        "\n",
        "\n",
        "*   Conjunto de dados de previsão de risco de diabetes em estágio inicial.\n",
        "*   [Early stage diabetes risk prediction](http://archive.ics.uci.edu/ml/datasets/Early+stage+diabetes+risk+prediction+dataset.#)\n",
        "\n"
      ]
    },
    {
      "cell_type": "markdown",
      "metadata": {
        "id": "VOp4oTJh11PA"
      },
      "source": [
        "# **Leitura dos dados**"
      ]
    },
    {
      "cell_type": "code",
      "metadata": {
        "colab": {
          "base_uri": "https://localhost:8080/"
        },
        "id": "-EivGmPm1pw9",
        "outputId": "83b9fdfa-e1c3-4904-f99b-113dad291cbd"
      },
      "source": [
        "# criando ambiente no google drive\n",
        "from google.colab import drive\n",
        "drive.mount(\"/content/drive\")"
      ],
      "execution_count": 1,
      "outputs": [
        {
          "output_type": "stream",
          "text": [
            "Mounted at /content/drive\n"
          ],
          "name": "stdout"
        }
      ]
    },
    {
      "cell_type": "code",
      "metadata": {
        "id": "dgZar5Pr2IKt"
      },
      "source": [
        "# importando bibliotecas\n",
        "import pandas as pd\n",
        "import numpy as np\n",
        "import matplotlib.pyplot as plt\n",
        "import seaborn as sns\n",
        "\n",
        "from scipy.stats import norm\n",
        "from scipy.stats import kstest\n",
        "from scipy.stats import ranksums\n",
        "from scipy.stats import friedmanchisquare"
      ],
      "execution_count": 2,
      "outputs": []
    },
    {
      "cell_type": "code",
      "metadata": {
        "colab": {
          "base_uri": "https://localhost:8080/",
          "height": 258
        },
        "id": "rY-j6nwH2V7H",
        "outputId": "ffcb7b4e-d1bc-40b5-be35-f2e84f0134fb"
      },
      "source": [
        "dados = pd.read_csv(\"/content/drive/My Drive/Colab Notebooks/Estatística e Probabilidade/Semana 8/diabetes_data_upload.csv\")\n",
        "dados.head()"
      ],
      "execution_count": 3,
      "outputs": [
        {
          "output_type": "execute_result",
          "data": {
            "text/html": [
              "<div>\n",
              "<style scoped>\n",
              "    .dataframe tbody tr th:only-of-type {\n",
              "        vertical-align: middle;\n",
              "    }\n",
              "\n",
              "    .dataframe tbody tr th {\n",
              "        vertical-align: top;\n",
              "    }\n",
              "\n",
              "    .dataframe thead th {\n",
              "        text-align: right;\n",
              "    }\n",
              "</style>\n",
              "<table border=\"1\" class=\"dataframe\">\n",
              "  <thead>\n",
              "    <tr style=\"text-align: right;\">\n",
              "      <th></th>\n",
              "      <th>Age</th>\n",
              "      <th>Gender</th>\n",
              "      <th>Polyuria</th>\n",
              "      <th>Polydipsia</th>\n",
              "      <th>sudden weight loss</th>\n",
              "      <th>weakness</th>\n",
              "      <th>Polyphagia</th>\n",
              "      <th>Genital thrush</th>\n",
              "      <th>visual blurring</th>\n",
              "      <th>Itching</th>\n",
              "      <th>Irritability</th>\n",
              "      <th>delayed healing</th>\n",
              "      <th>partial paresis</th>\n",
              "      <th>muscle stiffness</th>\n",
              "      <th>Alopecia</th>\n",
              "      <th>Obesity</th>\n",
              "      <th>class</th>\n",
              "    </tr>\n",
              "  </thead>\n",
              "  <tbody>\n",
              "    <tr>\n",
              "      <th>0</th>\n",
              "      <td>40</td>\n",
              "      <td>Male</td>\n",
              "      <td>No</td>\n",
              "      <td>Yes</td>\n",
              "      <td>No</td>\n",
              "      <td>Yes</td>\n",
              "      <td>No</td>\n",
              "      <td>No</td>\n",
              "      <td>No</td>\n",
              "      <td>Yes</td>\n",
              "      <td>No</td>\n",
              "      <td>Yes</td>\n",
              "      <td>No</td>\n",
              "      <td>Yes</td>\n",
              "      <td>Yes</td>\n",
              "      <td>Yes</td>\n",
              "      <td>Positive</td>\n",
              "    </tr>\n",
              "    <tr>\n",
              "      <th>1</th>\n",
              "      <td>58</td>\n",
              "      <td>Male</td>\n",
              "      <td>No</td>\n",
              "      <td>No</td>\n",
              "      <td>No</td>\n",
              "      <td>Yes</td>\n",
              "      <td>No</td>\n",
              "      <td>No</td>\n",
              "      <td>Yes</td>\n",
              "      <td>No</td>\n",
              "      <td>No</td>\n",
              "      <td>No</td>\n",
              "      <td>Yes</td>\n",
              "      <td>No</td>\n",
              "      <td>Yes</td>\n",
              "      <td>No</td>\n",
              "      <td>Positive</td>\n",
              "    </tr>\n",
              "    <tr>\n",
              "      <th>2</th>\n",
              "      <td>41</td>\n",
              "      <td>Male</td>\n",
              "      <td>Yes</td>\n",
              "      <td>No</td>\n",
              "      <td>No</td>\n",
              "      <td>Yes</td>\n",
              "      <td>Yes</td>\n",
              "      <td>No</td>\n",
              "      <td>No</td>\n",
              "      <td>Yes</td>\n",
              "      <td>No</td>\n",
              "      <td>Yes</td>\n",
              "      <td>No</td>\n",
              "      <td>Yes</td>\n",
              "      <td>Yes</td>\n",
              "      <td>No</td>\n",
              "      <td>Positive</td>\n",
              "    </tr>\n",
              "    <tr>\n",
              "      <th>3</th>\n",
              "      <td>45</td>\n",
              "      <td>Male</td>\n",
              "      <td>No</td>\n",
              "      <td>No</td>\n",
              "      <td>Yes</td>\n",
              "      <td>Yes</td>\n",
              "      <td>Yes</td>\n",
              "      <td>Yes</td>\n",
              "      <td>No</td>\n",
              "      <td>Yes</td>\n",
              "      <td>No</td>\n",
              "      <td>Yes</td>\n",
              "      <td>No</td>\n",
              "      <td>No</td>\n",
              "      <td>No</td>\n",
              "      <td>No</td>\n",
              "      <td>Positive</td>\n",
              "    </tr>\n",
              "    <tr>\n",
              "      <th>4</th>\n",
              "      <td>60</td>\n",
              "      <td>Male</td>\n",
              "      <td>Yes</td>\n",
              "      <td>Yes</td>\n",
              "      <td>Yes</td>\n",
              "      <td>Yes</td>\n",
              "      <td>Yes</td>\n",
              "      <td>No</td>\n",
              "      <td>Yes</td>\n",
              "      <td>Yes</td>\n",
              "      <td>Yes</td>\n",
              "      <td>Yes</td>\n",
              "      <td>Yes</td>\n",
              "      <td>Yes</td>\n",
              "      <td>Yes</td>\n",
              "      <td>Yes</td>\n",
              "      <td>Positive</td>\n",
              "    </tr>\n",
              "  </tbody>\n",
              "</table>\n",
              "</div>"
            ],
            "text/plain": [
              "   Age Gender Polyuria Polydipsia  ... muscle stiffness Alopecia Obesity     class\n",
              "0   40   Male       No        Yes  ...              Yes      Yes     Yes  Positive\n",
              "1   58   Male       No         No  ...               No      Yes      No  Positive\n",
              "2   41   Male      Yes         No  ...              Yes      Yes      No  Positive\n",
              "3   45   Male       No         No  ...               No       No      No  Positive\n",
              "4   60   Male      Yes        Yes  ...              Yes      Yes     Yes  Positive\n",
              "\n",
              "[5 rows x 17 columns]"
            ]
          },
          "metadata": {
            "tags": []
          },
          "execution_count": 3
        }
      ]
    },
    {
      "cell_type": "markdown",
      "metadata": {
        "id": "vrWW772x7a9I"
      },
      "source": [
        "# **Teste de Kolmogorov-Smirnov**"
      ]
    },
    {
      "cell_type": "markdown",
      "metadata": {
        "id": "xuqS29gO7gDV"
      },
      "source": [
        "Testando a hipótese nula de que a distribuição dos dados é normal (Gaussiana)"
      ]
    },
    {
      "cell_type": "code",
      "metadata": {
        "colab": {
          "base_uri": "https://localhost:8080/",
          "height": 265
        },
        "id": "S_NfjWgL4M1e",
        "outputId": "c8da3f17-15cd-4912-a287-7e66c3a2e3cc"
      },
      "source": [
        "plt.plot(dados[\"Age\"])\n",
        "plt.show()"
      ],
      "execution_count": 4,
      "outputs": [
        {
          "output_type": "display_data",
          "data": {
            "image/png": "[encoded data removed]",
            "text/plain": [
              "<Figure size 432x288 with 1 Axes>"
            ]
          },
          "metadata": {
            "tags": [],
            "needs_background": "light"
          }
        }
      ]
    },
    {
      "cell_type": "code",
      "metadata": {
        "colab": {
          "base_uri": "https://localhost:8080/",
          "height": 349
        },
        "id": "7cG9rYDA4XcK",
        "outputId": "f87f975c-9e2d-4df6-c2c7-a9f9cf786d17"
      },
      "source": [
        "sns.distplot(dados[\"Age\"], hist=False, rug=False,label='Idade')\n",
        "plt.xlabel('Valores')\n",
        "plt.ylabel('Probabilidades')\n",
        "plt.title('Distribuição dos atributo idade')\n",
        "plt.legend()\n",
        "plt.show()"
      ],
      "execution_count": 5,
      "outputs": [
        {
          "output_type": "stream",
          "text": [
            "/usr/local/lib/python3.6/dist-packages/seaborn/distributions.py:2551: FutureWarning: `distplot` is a deprecated function and will be removed in a future version. Please adapt your code to use either `displot` (a figure-level function with similar flexibility) or `kdeplot` (an axes-level function for kernel density plots).\n",
            "  warnings.warn(msg, FutureWarning)\n"
          ],
          "name": "stderr"
        },
        {
          "output_type": "display_data",
          "data": {
            "image/png": "[encoded data removed]",
            "text/plain": [
              "<Figure size 432x288 with 1 Axes>"
            ]
          },
          "metadata": {
            "tags": [],
            "needs_background": "light"
          }
        }
      ]
    },
    {
      "cell_type": "markdown",
      "metadata": {
        "id": "OrV1ga8gWxQf"
      },
      "source": [
        "Pela análise visual do gráfico acima, é possível notar que a forma da curva não corresponde a uma distribuição normal."
      ]
    },
    {
      "cell_type": "markdown",
      "metadata": {
        "id": "OeoDY1sn73kG"
      },
      "source": [
        "**P-value**"
      ]
    },
    {
      "cell_type": "markdown",
      "metadata": {
        "id": "OO_YUzQwXcIP"
      },
      "source": [
        "$H_0$  = a amostra segue uma distribuição normal\n",
        "\n",
        "$H_a$  = a amostra não segue uma distribuição normal"
      ]
    },
    {
      "cell_type": "code",
      "metadata": {
        "colab": {
          "base_uri": "https://localhost:8080/"
        },
        "id": "XW7iv2AK4i-P",
        "outputId": "1c6413ef-a90f-49ae-a633-0d9d2668d71c"
      },
      "source": [
        "s, p = kstest(dados[\"Age\"], \"norm\")\n",
        "s, p"
      ],
      "execution_count": 6,
      "outputs": [
        {
          "output_type": "execute_result",
          "data": {
            "text/plain": [
              "(1.0, 0.0)"
            ]
          },
          "metadata": {
            "tags": []
          },
          "execution_count": 6
        }
      ]
    },
    {
      "cell_type": "code",
      "metadata": {
        "colab": {
          "base_uri": "https://localhost:8080/"
        },
        "id": "lOpVKWBl76E2",
        "outputId": "a0cf0baf-f144-4213-cd0a-89b8c1d2fd61"
      },
      "source": [
        "if p < 0.05:\n",
        "  print(\"Rejeita H0\")\n",
        "else:\n",
        "  print(\"Falha em rejeitar H0\")"
      ],
      "execution_count": 7,
      "outputs": [
        {
          "output_type": "stream",
          "text": [
            "Rejeita H0\n"
          ],
          "name": "stdout"
        }
      ]
    },
    {
      "cell_type": "markdown",
      "metadata": {
        "id": "Rj3uT2Y38Dvg"
      },
      "source": [
        "De acordo com o teste de Kolmogorov-Smirnov o atributo **idade** da amostra não segue uma distribuição normal, pois o p-value foi igual a 0 consequentemente menor que 0.5 correspondendo a um nível de significância de 5%."
      ]
    },
    {
      "cell_type": "markdown",
      "metadata": {
        "id": "c1Ys_5T38GGu"
      },
      "source": [
        "# **Teste de Wilcoxon para Amostras Independentes**"
      ]
    },
    {
      "cell_type": "code",
      "metadata": {
        "id": "mhnpFC1Q8Uvh"
      },
      "source": [
        "# trocando o tipo do atributo obesidade por um tipo numérico\n",
        "dados[\"Obesity\"] = dados[\"Obesity\"].replace([\"Yes\", \"No\"], [1,0])\n",
        "# dividindo as amostras em não obesos e obesos\n",
        "nao_obesos = dados[dados.Obesity == 0].reset_index(drop=True)\n",
        "obesos = dados[dados.Obesity == 1].reset_index(drop=True)"
      ],
      "execution_count": 8,
      "outputs": []
    },
    {
      "cell_type": "code",
      "metadata": {
        "colab": {
          "base_uri": "https://localhost:8080/",
          "height": 383
        },
        "id": "3credzDg9DXq",
        "outputId": "ce6d73da-aca9-4cfd-957c-a63b06c53007"
      },
      "source": [
        "sns.distplot(nao_obesos[\"Age\"], hist=False, rug=False, label=\"Não obesos\")\n",
        "sns.distplot(obesos[\"Age\"], hist=False, rug=False, label=\"Obesos\")\n",
        "plt.xlabel(\"Idade\")\n",
        "plt.ylabel(\"Probabilidades\")\n",
        "plt.title(\"Idade de pessoas com obesidade\")\n",
        "plt.legend()\n",
        "plt.show()"
      ],
      "execution_count": 9,
      "outputs": [
        {
          "output_type": "stream",
          "text": [
            "/usr/local/lib/python3.6/dist-packages/seaborn/distributions.py:2551: FutureWarning: `distplot` is a deprecated function and will be removed in a future version. Please adapt your code to use either `displot` (a figure-level function with similar flexibility) or `kdeplot` (an axes-level function for kernel density plots).\n",
            "  warnings.warn(msg, FutureWarning)\n",
            "/usr/local/lib/python3.6/dist-packages/seaborn/distributions.py:2551: FutureWarning: `distplot` is a deprecated function and will be removed in a future version. Please adapt your code to use either `displot` (a figure-level function with similar flexibility) or `kdeplot` (an axes-level function for kernel density plots).\n",
            "  warnings.warn(msg, FutureWarning)\n"
          ],
          "name": "stderr"
        },
        {
          "output_type": "display_data",
          "data": {
            "image/png": "[encoded data removed]",
            "text/plain": [
              "<Figure size 432x288 with 1 Axes>"
            ]
          },
          "metadata": {
            "tags": [],
            "needs_background": "light"
          }
        }
      ]
    },
    {
      "cell_type": "code",
      "metadata": {
        "colab": {
          "base_uri": "https://localhost:8080/"
        },
        "id": "pgtxnNoX9nPL",
        "outputId": "5e12eb92-5a6d-4413-eb28-96bc9067b78a"
      },
      "source": [
        "s, p = ranksums(nao_obesos[\"Age\"], obesos[\"Age\"])\n",
        "s, p"
      ],
      "execution_count": 10,
      "outputs": [
        {
          "output_type": "execute_result",
          "data": {
            "text/plain": [
              "(-3.6809326048314697, 0.00023238242779218235)"
            ]
          },
          "metadata": {
            "tags": []
          },
          "execution_count": 10
        }
      ]
    },
    {
      "cell_type": "code",
      "metadata": {
        "colab": {
          "base_uri": "https://localhost:8080/"
        },
        "id": "n6kh4P-q9uih",
        "outputId": "5fdc46d3-4d16-4669-df97-880cbf33c5e8"
      },
      "source": [
        "if p < 0.05:\n",
        "  print(\"Rejeita H0\")\n",
        "else:\n",
        "  print(\"Falha em rejeitar H0\")"
      ],
      "execution_count": 11,
      "outputs": [
        {
          "output_type": "stream",
          "text": [
            "Rejeita H0\n"
          ],
          "name": "stdout"
        }
      ]
    },
    {
      "cell_type": "markdown",
      "metadata": {
        "id": "r-cQxs1pZu33"
      },
      "source": [
        "O teste de Wilcoxon tem como hipótese alternativa de que os valores das amostras afvém de distribuiçoes diferentes. Então, como era esperado as duas amostras não seguem uma distribuição normal."
      ]
    },
    {
      "cell_type": "markdown",
      "metadata": {
        "id": "PZ9uo1Nudth_"
      },
      "source": [
        "# **Teste de Friedman**"
      ]
    },
    {
      "cell_type": "markdown",
      "metadata": {
        "id": "UcXHZTYwl2pj"
      },
      "source": [
        "* [Proyecto Final de Estadística](https://www.kaggle.com/luiguiparodi/testing)\n",
        "* Algoritmo de rede híbrida para congestionamento de rede"
      ]
    },
    {
      "cell_type": "code",
      "metadata": {
        "colab": {
          "base_uri": "https://localhost:8080/",
          "height": 258
        },
        "id": "81bCFtLnhdiw",
        "outputId": "02edaa89-e514-4b9f-e29c-283b28ef7949"
      },
      "source": [
        "testedb = pd.read_csv(\"/content/drive/My Drive/Colab Notebooks/Estatística e Probabilidade/Semana 8/Test_DB.csv\")\n",
        "testedb.head()"
      ],
      "execution_count": 12,
      "outputs": [
        {
          "output_type": "execute_result",
          "data": {
            "text/html": [
              "<div>\n",
              "<style scoped>\n",
              "    .dataframe tbody tr th:only-of-type {\n",
              "        vertical-align: middle;\n",
              "    }\n",
              "\n",
              "    .dataframe tbody tr th {\n",
              "        vertical-align: top;\n",
              "    }\n",
              "\n",
              "    .dataframe thead th {\n",
              "        text-align: right;\n",
              "    }\n",
              "</style>\n",
              "<table border=\"1\" class=\"dataframe\">\n",
              "  <thead>\n",
              "    <tr style=\"text-align: right;\">\n",
              "      <th></th>\n",
              "      <th>Node Number</th>\n",
              "      <th>Thread Number</th>\n",
              "      <th>Spatial Distribution</th>\n",
              "      <th>Temporal Distribution</th>\n",
              "      <th>T/R</th>\n",
              "      <th>Processor Utilization</th>\n",
              "      <th>Channel Waiting Time</th>\n",
              "      <th>Input Waiting Time</th>\n",
              "      <th>Network Response Time</th>\n",
              "      <th>Channel Utilization</th>\n",
              "      <th>Unnamed: 10</th>\n",
              "      <th>Unnamed: 11</th>\n",
              "      <th>Unnamed: 12</th>\n",
              "      <th>Unnamed: 13</th>\n",
              "      <th>Unnamed: 14</th>\n",
              "    </tr>\n",
              "  </thead>\n",
              "  <tbody>\n",
              "    <tr>\n",
              "      <th>0</th>\n",
              "      <td>64</td>\n",
              "      <td>4</td>\n",
              "      <td>UN</td>\n",
              "      <td>Client-Server</td>\n",
              "      <td>0,1</td>\n",
              "      <td>0,839546</td>\n",
              "      <td>1,974686</td>\n",
              "      <td>308,491814</td>\n",
              "      <td>700,514102</td>\n",
              "      <td>0,352431</td>\n",
              "      <td>NaN</td>\n",
              "      <td>NaN</td>\n",
              "      <td>NaN</td>\n",
              "      <td>NaN</td>\n",
              "      <td>NaN</td>\n",
              "    </tr>\n",
              "    <tr>\n",
              "      <th>1</th>\n",
              "      <td>64</td>\n",
              "      <td>4</td>\n",
              "      <td>UN</td>\n",
              "      <td>Client-Server</td>\n",
              "      <td>0,2</td>\n",
              "      <td>0,827412</td>\n",
              "      <td>9,556437</td>\n",
              "      <td>291,037663</td>\n",
              "      <td>864,599227</td>\n",
              "      <td>0,506302</td>\n",
              "      <td>NaN</td>\n",
              "      <td>NaN</td>\n",
              "      <td>NaN</td>\n",
              "      <td>NaN</td>\n",
              "      <td>NaN</td>\n",
              "    </tr>\n",
              "    <tr>\n",
              "      <th>2</th>\n",
              "      <td>64</td>\n",
              "      <td>4</td>\n",
              "      <td>UN</td>\n",
              "      <td>Client-Server</td>\n",
              "      <td>0,3</td>\n",
              "      <td>0,802605</td>\n",
              "      <td>27,027618</td>\n",
              "      <td>264,928002</td>\n",
              "      <td>839,372851</td>\n",
              "      <td>0,638516</td>\n",
              "      <td>NaN</td>\n",
              "      <td>NaN</td>\n",
              "      <td>NaN</td>\n",
              "      <td>NaN</td>\n",
              "      <td>NaN</td>\n",
              "    </tr>\n",
              "    <tr>\n",
              "      <th>3</th>\n",
              "      <td>64</td>\n",
              "      <td>4</td>\n",
              "      <td>UN</td>\n",
              "      <td>Client-Server</td>\n",
              "      <td>0,4</td>\n",
              "      <td>0,723403</td>\n",
              "      <td>61,848511</td>\n",
              "      <td>235,776888</td>\n",
              "      <td>1256,053108</td>\n",
              "      <td>0,767051</td>\n",
              "      <td>NaN</td>\n",
              "      <td>NaN</td>\n",
              "      <td>NaN</td>\n",
              "      <td>NaN</td>\n",
              "      <td>NaN</td>\n",
              "    </tr>\n",
              "    <tr>\n",
              "      <th>4</th>\n",
              "      <td>64</td>\n",
              "      <td>4</td>\n",
              "      <td>UN</td>\n",
              "      <td>Client-Server</td>\n",
              "      <td>0,5</td>\n",
              "      <td>0,72121</td>\n",
              "      <td>121,085884</td>\n",
              "      <td>189,680044</td>\n",
              "      <td>1343,875577</td>\n",
              "      <td>0,807812</td>\n",
              "      <td>NaN</td>\n",
              "      <td>NaN</td>\n",
              "      <td>NaN</td>\n",
              "      <td>NaN</td>\n",
              "      <td>NaN</td>\n",
              "    </tr>\n",
              "  </tbody>\n",
              "</table>\n",
              "</div>"
            ],
            "text/plain": [
              "   Node Number  Thread Number  ... Unnamed: 13 Unnamed: 14\n",
              "0           64              4  ...         NaN         NaN\n",
              "1           64              4  ...         NaN         NaN\n",
              "2           64              4  ...         NaN         NaN\n",
              "3           64              4  ...         NaN         NaN\n",
              "4           64              4  ...         NaN         NaN\n",
              "\n",
              "[5 rows x 15 columns]"
            ]
          },
          "metadata": {
            "tags": []
          },
          "execution_count": 12
        }
      ]
    },
    {
      "cell_type": "markdown",
      "metadata": {
        "id": "koGWGKmq5l2T"
      },
      "source": [
        "Para análise dos testes de Friedman e Nemenyi será este data set que contém dados de um algoritmo de rede híbrida para congestionamento de rede, os atributos a seres comparados serão o tempo de espera do canal, da entrada e resposta respectivamente."
      ]
    },
    {
      "cell_type": "code",
      "metadata": {
        "id": "-HX6GrHGd5qu"
      },
      "source": [
        "tempo_espera_canal = testedb[\"Channel Waiting Time\"].str.replace(\",\",\".\").astype(float)\n",
        "tempo_espera_entrada = testedb[\"Input Waiting Time\"].str.replace(\",\",\".\").astype(float)\n",
        "tempo_resposta = testedb[\"Network Response Time\"].str.replace(\",\",\".\").astype(float)"
      ],
      "execution_count": 13,
      "outputs": []
    },
    {
      "cell_type": "code",
      "metadata": {
        "colab": {
          "base_uri": "https://localhost:8080/",
          "height": 417
        },
        "id": "74UdOU74h8jg",
        "outputId": "f61f3d63-293e-4fa9-c456-59209888aca5"
      },
      "source": [
        "sns.distplot(tempo_espera_canal, hist=False, label=\"Canal\")\n",
        "sns.distplot(tempo_espera_entrada, hist=False, rug=False, label=\"Entrada\")\n",
        "sns.distplot(tempo_resposta, hist=False, rug=False, label=\"Resposta\")\n",
        "plt.xlabel(\"Tempo de espera\")\n",
        "plt.ylabel(\"Probabilidades\")\n",
        "plt.title(\"Tempo de execução\")\n",
        "plt.legend()\n",
        "plt.show()"
      ],
      "execution_count": 14,
      "outputs": [
        {
          "output_type": "stream",
          "text": [
            "/usr/local/lib/python3.6/dist-packages/seaborn/distributions.py:2551: FutureWarning: `distplot` is a deprecated function and will be removed in a future version. Please adapt your code to use either `displot` (a figure-level function with similar flexibility) or `kdeplot` (an axes-level function for kernel density plots).\n",
            "  warnings.warn(msg, FutureWarning)\n",
            "/usr/local/lib/python3.6/dist-packages/seaborn/distributions.py:2551: FutureWarning: `distplot` is a deprecated function and will be removed in a future version. Please adapt your code to use either `displot` (a figure-level function with similar flexibility) or `kdeplot` (an axes-level function for kernel density plots).\n",
            "  warnings.warn(msg, FutureWarning)\n",
            "/usr/local/lib/python3.6/dist-packages/seaborn/distributions.py:2551: FutureWarning: `distplot` is a deprecated function and will be removed in a future version. Please adapt your code to use either `displot` (a figure-level function with similar flexibility) or `kdeplot` (an axes-level function for kernel density plots).\n",
            "  warnings.warn(msg, FutureWarning)\n"
          ],
          "name": "stderr"
        },
        {
          "output_type": "display_data",
          "data": {
            "image/png": "[encoded data removed]",
            "text/plain": [
              "<Figure size 432x288 with 1 Axes>"
            ]
          },
          "metadata": {
            "tags": [],
            "needs_background": "light"
          }
        }
      ]
    },
    {
      "cell_type": "code",
      "metadata": {
        "colab": {
          "base_uri": "https://localhost:8080/"
        },
        "id": "5MVvKF4ZmIKJ",
        "outputId": "86472f28-2d5e-4354-89bd-2abfb514b3e7"
      },
      "source": [
        "s, p = friedmanchisquare(tempo_espera_canal, tempo_espera_entrada, tempo_resposta)\n",
        "s, p"
      ],
      "execution_count": 15,
      "outputs": [
        {
          "output_type": "execute_result",
          "data": {
            "text/plain": [
              "(604.8031250000004, 4.663050161968462e-132)"
            ]
          },
          "metadata": {
            "tags": []
          },
          "execution_count": 15
        }
      ]
    },
    {
      "cell_type": "code",
      "metadata": {
        "colab": {
          "base_uri": "https://localhost:8080/"
        },
        "id": "HvkTdDgSmSKp",
        "outputId": "31f97112-20e3-47a2-9274-ce1c66f79752"
      },
      "source": [
        "if p < 0.5:\n",
        "  print(\"Rejeita H0\")\n",
        "else:\n",
        "  print(\"Falha em rejeitar H0\")"
      ],
      "execution_count": 16,
      "outputs": [
        {
          "output_type": "stream",
          "text": [
            "Rejeita H0\n"
          ],
          "name": "stdout"
        }
      ]
    },
    {
      "cell_type": "markdown",
      "metadata": {
        "id": "NFjJPagTmboD"
      },
      "source": [
        "De acordo com o teste de Friedman confirmou-se a hipótese alternativa de que pelo menos uma das amostras não segue a mesma distribuição das demais, pois o p-value é um número extremamente pequeno."
      ]
    },
    {
      "cell_type": "markdown",
      "metadata": {
        "id": "nglb-_HumcCI"
      },
      "source": [
        "# **Teste de Nemenyi**"
      ]
    },
    {
      "cell_type": "code",
      "metadata": {
        "colab": {
          "base_uri": "https://localhost:8080/"
        },
        "id": "sQR4LW2OotfS",
        "outputId": "91b1170d-f3e8-4811-f4f4-40ae12bca26a"
      },
      "source": [
        "! pip install scikit-posthocs"
      ],
      "execution_count": 17,
      "outputs": [
        {
          "output_type": "stream",
          "text": [
            "Collecting scikit-posthocs\n",
            "  Downloading https://files.pythonhosted.org/packages/e8/b3/ab9b240381d6218a3a5e94d11a1552217317d9624988cf279ec527b5f83e/scikit_posthocs-0.6.6-py3-none-any.whl\n",
            "Requirement already satisfied: seaborn in /usr/local/lib/python3.6/dist-packages (from scikit-posthocs) (0.11.0)\n",
            "Requirement already satisfied: statsmodels in /usr/local/lib/python3.6/dist-packages (from scikit-posthocs) (0.10.2)\n",
            "Requirement already satisfied: numpy in /usr/local/lib/python3.6/dist-packages (from scikit-posthocs) (1.18.5)\n",
            "Requirement already satisfied: matplotlib in /usr/local/lib/python3.6/dist-packages (from scikit-posthocs) (3.2.2)\n",
            "Requirement already satisfied: scipy in /usr/local/lib/python3.6/dist-packages (from scikit-posthocs) (1.4.1)\n",
            "Requirement already satisfied: pandas>=0.20.0 in /usr/local/lib/python3.6/dist-packages (from scikit-posthocs) (1.1.4)\n",
            "Requirement already satisfied: patsy>=0.4.0 in /usr/local/lib/python3.6/dist-packages (from statsmodels->scikit-posthocs) (0.5.1)\n",
            "Requirement already satisfied: cycler>=0.10 in /usr/local/lib/python3.6/dist-packages (from matplotlib->scikit-posthocs) (0.10.0)\n",
            "Requirement already satisfied: pyparsing!=2.0.4,!=2.1.2,!=2.1.6,>=2.0.1 in /usr/local/lib/python3.6/dist-packages (from matplotlib->scikit-posthocs) (2.4.7)\n",
            "Requirement already satisfied: python-dateutil>=2.1 in /usr/local/lib/python3.6/dist-packages (from matplotlib->scikit-posthocs) (2.8.1)\n",
            "Requirement already satisfied: kiwisolver>=1.0.1 in /usr/local/lib/python3.6/dist-packages (from matplotlib->scikit-posthocs) (1.3.1)\n",
            "Requirement already satisfied: pytz>=2017.2 in /usr/local/lib/python3.6/dist-packages (from pandas>=0.20.0->scikit-posthocs) (2018.9)\n",
            "Requirement already satisfied: six in /usr/local/lib/python3.6/dist-packages (from patsy>=0.4.0->statsmodels->scikit-posthocs) (1.15.0)\n",
            "Installing collected packages: scikit-posthocs\n",
            "Successfully installed scikit-posthocs-0.6.6\n"
          ],
          "name": "stdout"
        }
      ]
    },
    {
      "cell_type": "code",
      "metadata": {
        "id": "dLQ9O7hTo0CS",
        "colab": {
          "base_uri": "https://localhost:8080/"
        },
        "outputId": "63e2fc43-e0e5-4f7e-bded-58f02bf53e0d"
      },
      "source": [
        "from scikit_posthocs import posthoc_nemenyi"
      ],
      "execution_count": 18,
      "outputs": [
        {
          "output_type": "stream",
          "text": [
            "/usr/local/lib/python3.6/dist-packages/statsmodels/tools/_testing.py:19: FutureWarning: pandas.util.testing is deprecated. Use the functions in the public API at pandas.testing instead.\n",
            "  import pandas.util.testing as tm\n"
          ],
          "name": "stderr"
        }
      ]
    },
    {
      "cell_type": "code",
      "metadata": {
        "colab": {
          "base_uri": "https://localhost:8080/",
          "height": 142
        },
        "id": "kn6bstINo4tw",
        "outputId": "af94d7f3-013e-4a61-f1b2-bb426c80c5ee"
      },
      "source": [
        "post = posthoc_nemenyi([tempo_espera_canal, tempo_espera_entrada, tempo_resposta])\n",
        "post"
      ],
      "execution_count": 19,
      "outputs": [
        {
          "output_type": "execute_result",
          "data": {
            "text/html": [
              "<div>\n",
              "<style scoped>\n",
              "    .dataframe tbody tr th:only-of-type {\n",
              "        vertical-align: middle;\n",
              "    }\n",
              "\n",
              "    .dataframe tbody tr th {\n",
              "        vertical-align: top;\n",
              "    }\n",
              "\n",
              "    .dataframe thead th {\n",
              "        text-align: right;\n",
              "    }\n",
              "</style>\n",
              "<table border=\"1\" class=\"dataframe\">\n",
              "  <thead>\n",
              "    <tr style=\"text-align: right;\">\n",
              "      <th></th>\n",
              "      <th>1</th>\n",
              "      <th>2</th>\n",
              "      <th>3</th>\n",
              "    </tr>\n",
              "  </thead>\n",
              "  <tbody>\n",
              "    <tr>\n",
              "      <th>1</th>\n",
              "      <td>1.000000e+00</td>\n",
              "      <td>4.348717e-01</td>\n",
              "      <td>1.344829e-105</td>\n",
              "    </tr>\n",
              "    <tr>\n",
              "      <th>2</th>\n",
              "      <td>4.348717e-01</td>\n",
              "      <td>1.000000e+00</td>\n",
              "      <td>1.212756e-93</td>\n",
              "    </tr>\n",
              "    <tr>\n",
              "      <th>3</th>\n",
              "      <td>1.344829e-105</td>\n",
              "      <td>1.212756e-93</td>\n",
              "      <td>1.000000e+00</td>\n",
              "    </tr>\n",
              "  </tbody>\n",
              "</table>\n",
              "</div>"
            ],
            "text/plain": [
              "               1             2              3\n",
              "1   1.000000e+00  4.348717e-01  1.344829e-105\n",
              "2   4.348717e-01  1.000000e+00   1.212756e-93\n",
              "3  1.344829e-105  1.212756e-93   1.000000e+00"
            ]
          },
          "metadata": {
            "tags": []
          },
          "execution_count": 19
        }
      ]
    },
    {
      "cell_type": "code",
      "metadata": {
        "colab": {
          "base_uri": "https://localhost:8080/"
        },
        "id": "N2w7EDVLpGPF",
        "outputId": "514960af-e9bd-4a7c-fec1-b205eacbcff9"
      },
      "source": [
        "for i in range(len(post)):\n",
        "  for j in range(i+1, len(post)):\n",
        "    if post.iloc[i, j] < 0.05:\n",
        "      print(\"Amostras\",i,\"e\",j,\"são diferentes\")\n",
        "    else:\n",
        "      print(\"Amostras\",i,\"e\",j,\"são iguais\")"
      ],
      "execution_count": 20,
      "outputs": [
        {
          "output_type": "stream",
          "text": [
            "Amostras 0 e 1 são iguais\n",
            "Amostras 0 e 2 são diferentes\n",
            "Amostras 1 e 2 são diferentes\n"
          ],
          "name": "stdout"
        }
      ]
    },
    {
      "cell_type": "markdown",
      "metadata": {
        "id": "tWygtaG25axA"
      },
      "source": [
        "Como a hipótese nula do teste de Friedman foi rejeitada, precisamos verificar se duas ou mais amostras podem ser estatísticamente equivalentes, então doi utilizado o teste post-hoc que verificou e difiniu que:\n",
        "* A primeira e segunda amostra, tempo de espera do canal e tempo de espera da entrada são iguais.\n",
        "* A primeira e terceira amostra, tempo de espera do canal e tempo de resposta são diferentes.\n",
        "* E a segunda e tercerca amostra, tempo de espera da entrada e tempo de resposta são diferentes."
      ]
    },
    {
      "cell_type": "markdown",
      "metadata": {
        "id": "IqfZl6Of7JBL"
      },
      "source": [
        "# **Conclusões**"
      ]
    },
    {
      "cell_type": "markdown",
      "metadata": {
        "id": "8HQgnMqu7K4q"
      },
      "source": [
        "Foram analisados dois data sets um contendo um conjunto de dados de previsão de risco de diabetes em estágio inicial onde aplicou-se os testes de Kolmogorov-Smirnov e de Wilcoxon para Amostras Independentes respectivamente e o outro contendo um conjunto de dados de um algortimo de rede híbrida para congestionamento de rede onde aplicou-se os testes de Friedman e Nemenyi respectivamente."
      ]
    }
  ]
}